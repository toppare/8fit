{
 "cells": [
  {
   "cell_type": "code",
   "execution_count": 1,
   "metadata": {},
   "outputs": [
    {
     "data": {
      "text/html": [
       "<style>.container { width:95% !important; }</style>"
      ],
      "text/plain": [
       "<IPython.core.display.HTML object>"
      ]
     },
     "metadata": {},
     "output_type": "display_data"
    }
   ],
   "source": [
    "# make jupyter cells wider\n",
    "\n",
    "from IPython.core.display import display, HTML\n",
    "display(HTML(\"<style>.container { width:95% !important; }</style>\"))"
   ]
  },
  {
   "cell_type": "code",
   "execution_count": 3,
   "metadata": {},
   "outputs": [],
   "source": [
    "# import necessary libraries\n",
    "\n",
    "import pandas as pd\n",
    "import matplotlib.pyplot as plt\n",
    "import seaborn as sns\n",
    "import numpy as np\n",
    "from itertools import combinations\n",
    "from scipy.stats import chi2_contingency\n",
    "from copy import deepcopy\n",
    "\n",
    "from sklearn.model_selection import train_test_split, KFold, cross_val_score, GridSearchCV\n",
    "from sklearn.neighbors import KNeighborsClassifier\n",
    "from sklearn.linear_model import LogisticRegression\n",
    "from sklearn.ensemble import RandomForestClassifier, GradientBoostingClassifier, AdaBoostClassifier\n",
    "from sklearn.metrics import accuracy_score, f1_score, roc_auc_score, classification_report, cohen_kappa_score, precision_score, recall_score\n",
    "from sklearn.decomposition import PCA, NMF, FastICA\n",
    "from sklearn.dummy import DummyClassifier\n",
    "from sklearn.neural_network import MLPClassifier\n",
    "from sklearn.svm import SVC\n",
    "from sklearn.naive_bayes import GaussianNB\n",
    "from sklearn.feature_selection import SelectKBest, chi2\n",
    "from sklearn.preprocessing import MinMaxScaler\n",
    "from imblearn.over_sampling import SMOTE\n",
    "from imblearn.under_sampling import RandomUnderSampler\n",
    "from xgboost import XGBClassifier\n",
    "from lightgbm import LGBMClassifier\n",
    "\n",
    "import matplotlib\n",
    "#matplotlib.style.use('ggplot')\n",
    "sns.set(font_scale=1.5)\n",
    "\n",
    "           \n",
    "% matplotlib inline"
   ]
  },
  {
   "cell_type": "code",
   "execution_count": 4,
   "metadata": {},
   "outputs": [
    {
     "data": {
      "text/plain": [
       "(82908, 7)"
      ]
     },
     "execution_count": 4,
     "metadata": {},
     "output_type": "execute_result"
    }
   ],
   "source": [
    "df_eda = pd.read_csv('./train_data.csv')\n",
    "df_eda.shape"
   ]
  },
  {
   "cell_type": "code",
   "execution_count": 5,
   "metadata": {
    "scrolled": true
   },
   "outputs": [
    {
     "data": {
      "text/html": [
       "<div>\n",
       "<style>\n",
       "    .dataframe thead tr:only-child th {\n",
       "        text-align: right;\n",
       "    }\n",
       "\n",
       "    .dataframe thead th {\n",
       "        text-align: left;\n",
       "    }\n",
       "\n",
       "    .dataframe tbody tr th {\n",
       "        vertical-align: top;\n",
       "    }\n",
       "</style>\n",
       "<table border=\"1\" class=\"dataframe\">\n",
       "  <thead>\n",
       "    <tr style=\"text-align: right;\">\n",
       "      <th></th>\n",
       "      <th>user_id</th>\n",
       "      <th>channel</th>\n",
       "      <th>age</th>\n",
       "      <th>os</th>\n",
       "      <th>gender</th>\n",
       "      <th>country</th>\n",
       "      <th>customer</th>\n",
       "    </tr>\n",
       "  </thead>\n",
       "  <tbody>\n",
       "    <tr>\n",
       "      <th>46784</th>\n",
       "      <td>146784</td>\n",
       "      <td>22 Adwords (Search)</td>\n",
       "      <td>13</td>\n",
       "      <td>android</td>\n",
       "      <td>male</td>\n",
       "      <td>US</td>\n",
       "      <td>0</td>\n",
       "    </tr>\n",
       "    <tr>\n",
       "      <th>35328</th>\n",
       "      <td>135328</td>\n",
       "      <td>69 Others</td>\n",
       "      <td>24</td>\n",
       "      <td>android</td>\n",
       "      <td>male</td>\n",
       "      <td>US</td>\n",
       "      <td>0</td>\n",
       "    </tr>\n",
       "    <tr>\n",
       "      <th>11427</th>\n",
       "      <td>111427</td>\n",
       "      <td>22 Adwords (Search)</td>\n",
       "      <td>22</td>\n",
       "      <td>android</td>\n",
       "      <td>male</td>\n",
       "      <td>CA</td>\n",
       "      <td>0</td>\n",
       "    </tr>\n",
       "    <tr>\n",
       "      <th>41133</th>\n",
       "      <td>141133</td>\n",
       "      <td>12 PINTEREST</td>\n",
       "      <td>33</td>\n",
       "      <td>ios</td>\n",
       "      <td>female</td>\n",
       "      <td>US</td>\n",
       "      <td>1</td>\n",
       "    </tr>\n",
       "    <tr>\n",
       "      <th>68383</th>\n",
       "      <td>168383</td>\n",
       "      <td>95 LAT</td>\n",
       "      <td>14</td>\n",
       "      <td>ios</td>\n",
       "      <td>female</td>\n",
       "      <td>AU</td>\n",
       "      <td>0</td>\n",
       "    </tr>\n",
       "  </tbody>\n",
       "</table>\n",
       "</div>"
      ],
      "text/plain": [
       "       user_id              channel  age       os  gender country  customer\n",
       "46784   146784  22 Adwords (Search)   13  android    male      US         0\n",
       "35328   135328            69 Others   24  android    male      US         0\n",
       "11427   111427  22 Adwords (Search)   22  android    male      CA         0\n",
       "41133   141133         12 PINTEREST   33      ios  female      US         1\n",
       "68383   168383               95 LAT   14      ios  female      AU         0"
      ]
     },
     "execution_count": 5,
     "metadata": {},
     "output_type": "execute_result"
    }
   ],
   "source": [
    "#random 5 rows from data\n",
    "\n",
    "df_eda.sample(5)"
   ]
  },
  {
   "cell_type": "code",
   "execution_count": 6,
   "metadata": {},
   "outputs": [
    {
     "name": "stdout",
     "output_type": "stream",
     "text": [
      "<class 'pandas.core.frame.DataFrame'>\n",
      "RangeIndex: 82908 entries, 0 to 82907\n",
      "Data columns (total 7 columns):\n",
      "user_id     82908 non-null int64\n",
      "channel     82908 non-null object\n",
      "age         82908 non-null int64\n",
      "os          82908 non-null object\n",
      "gender      82908 non-null object\n",
      "country     82908 non-null object\n",
      "customer    82908 non-null int64\n",
      "dtypes: int64(3), object(4)\n",
      "memory usage: 4.4+ MB\n"
     ]
    }
   ],
   "source": [
    "df_eda.info()"
   ]
  },
  {
   "cell_type": "markdown",
   "metadata": {},
   "source": [
    "no missing values in data"
   ]
  },
  {
   "cell_type": "code",
   "execution_count": 7,
   "metadata": {},
   "outputs": [
    {
     "data": {
      "text/html": [
       "<div>\n",
       "<style>\n",
       "    .dataframe thead tr:only-child th {\n",
       "        text-align: right;\n",
       "    }\n",
       "\n",
       "    .dataframe thead th {\n",
       "        text-align: left;\n",
       "    }\n",
       "\n",
       "    .dataframe tbody tr th {\n",
       "        vertical-align: top;\n",
       "    }\n",
       "</style>\n",
       "<table border=\"1\" class=\"dataframe\">\n",
       "  <thead>\n",
       "    <tr style=\"text-align: right;\">\n",
       "      <th></th>\n",
       "      <th>user_id</th>\n",
       "      <th>age</th>\n",
       "      <th>customer</th>\n",
       "    </tr>\n",
       "  </thead>\n",
       "  <tbody>\n",
       "    <tr>\n",
       "      <th>count</th>\n",
       "      <td>82908.000000</td>\n",
       "      <td>82908.000000</td>\n",
       "      <td>82908.000000</td>\n",
       "    </tr>\n",
       "    <tr>\n",
       "      <th>mean</th>\n",
       "      <td>141453.500000</td>\n",
       "      <td>31.151734</td>\n",
       "      <td>0.297848</td>\n",
       "    </tr>\n",
       "    <tr>\n",
       "      <th>std</th>\n",
       "      <td>23933.622396</td>\n",
       "      <td>11.596902</td>\n",
       "      <td>0.457315</td>\n",
       "    </tr>\n",
       "    <tr>\n",
       "      <th>min</th>\n",
       "      <td>100000.000000</td>\n",
       "      <td>12.000000</td>\n",
       "      <td>0.000000</td>\n",
       "    </tr>\n",
       "    <tr>\n",
       "      <th>25%</th>\n",
       "      <td>120726.750000</td>\n",
       "      <td>22.000000</td>\n",
       "      <td>0.000000</td>\n",
       "    </tr>\n",
       "    <tr>\n",
       "      <th>50%</th>\n",
       "      <td>141453.500000</td>\n",
       "      <td>29.000000</td>\n",
       "      <td>0.000000</td>\n",
       "    </tr>\n",
       "    <tr>\n",
       "      <th>75%</th>\n",
       "      <td>162180.250000</td>\n",
       "      <td>38.000000</td>\n",
       "      <td>1.000000</td>\n",
       "    </tr>\n",
       "    <tr>\n",
       "      <th>max</th>\n",
       "      <td>182907.000000</td>\n",
       "      <td>96.000000</td>\n",
       "      <td>1.000000</td>\n",
       "    </tr>\n",
       "  </tbody>\n",
       "</table>\n",
       "</div>"
      ],
      "text/plain": [
       "             user_id           age      customer\n",
       "count   82908.000000  82908.000000  82908.000000\n",
       "mean   141453.500000     31.151734      0.297848\n",
       "std     23933.622396     11.596902      0.457315\n",
       "min    100000.000000     12.000000      0.000000\n",
       "25%    120726.750000     22.000000      0.000000\n",
       "50%    141453.500000     29.000000      0.000000\n",
       "75%    162180.250000     38.000000      1.000000\n",
       "max    182907.000000     96.000000      1.000000"
      ]
     },
     "execution_count": 7,
     "metadata": {},
     "output_type": "execute_result"
    }
   ],
   "source": [
    "df_eda.describe()"
   ]
  },
  {
   "cell_type": "markdown",
   "metadata": {},
   "source": [
    "- Average age is around 30 and conversion rate (from a subscriber to a customer) is 29.8%. It means that base accuracy for our classifier is %70. If a dummy predictor predicts 0 for each value, our accuracy will be 70%. \n",
    "- Data is unbalanced I can try over/under sampling to improve performance"
   ]
  },
  {
   "cell_type": "markdown",
   "metadata": {},
   "source": [
    "# 1) Explanatory Data Analysis"
   ]
  },
  {
   "cell_type": "markdown",
   "metadata": {},
   "source": [
    "### Age"
   ]
  },
  {
   "cell_type": "code",
   "execution_count": 8,
   "metadata": {},
   "outputs": [
    {
     "data": {
      "text/plain": [
       "<matplotlib.axes._subplots.AxesSubplot at 0x111b07630>"
      ]
     },
     "execution_count": 8,
     "metadata": {},
     "output_type": "execute_result"
    },
    {
     "data": {
      "image/png": "[encoded data removed]",
      "text/plain": [
       "<matplotlib.figure.Figure at 0x11d853860>"
      ]
     },
     "metadata": {},
     "output_type": "display_data"
    },
    {
     "data": {
      "image/png": "[encoded data removed]",
      "text/plain": [
       "<matplotlib.figure.Figure at 0x111b07f28>"
      ]
     },
     "metadata": {},
     "output_type": "display_data"
    }
   ],
   "source": [
    "aggfunc = {\n",
    "    'customer': 'mean',\n",
    "    'user_id': 'count'\n",
    "}\n",
    "\n",
    "\n",
    "pivot1 = df_eda.pivot_table(index='age', values=['customer', 'user_id'], aggfunc=aggfunc).reset_index()\n",
    "pivot1.plot(x='age', y=['customer'], figsize=(10,5), colormap='Set2')\n",
    "pivot1.plot(x='age', y=['user_id'], figsize=(10,5), colormap='Set2')"
   ]
  },
  {
   "cell_type": "markdown",
   "metadata": {},
   "source": [
    " - After 20, as age increases conversion ratios are rising. It shows that age will be probably important in our model. \n",
    "- min age is 12 and max is 96.\n",
    "- Since conversion is increasing with age, it is better to keep age in the model as the numerical value (instead of creating age buckets). However, I will generate age buckets for visualisation purposes.\n",
    "- between ages 12-18 there is a different trend, so it is better to group (18-) as a single bucket\n",
    "- I don't have much data after 65 and because of this conversion rates are fluctuating. It is better to group 65+ ages as a single bucket.\n",
    "- for the rest, I will use buckets same with google analytics 18-24, 25-34, 35-44, 45-54, 55-64, 65+"
   ]
  },
  {
   "cell_type": "code",
   "execution_count": 9,
   "metadata": {},
   "outputs": [
    {
     "data": {
      "text/plain": [
       "25-34    26823\n",
       "18-24    18069\n",
       "35-44    16391\n",
       "12-18     9735\n",
       "45-54     8428\n",
       "55-64     2833\n",
       "65+        629\n",
       "Name: age_bucket, dtype: int64"
      ]
     },
     "execution_count": 9,
     "metadata": {},
     "output_type": "execute_result"
    }
   ],
   "source": [
    "def get_age_bucket(age):\n",
    "    if age <= 18:\n",
    "        return '12-18'\n",
    "    elif 18 < age <= 24:\n",
    "        return '18-24'\n",
    "    elif 25 <= age <= 34:\n",
    "        return '25-34'\n",
    "    elif 35 <= age <= 44:\n",
    "        return '35-44'\n",
    "    elif 45 <= age <= 54:\n",
    "        return '45-54'\n",
    "    elif 55 <= age <= 64:\n",
    "        return '55-64'\n",
    "    elif 65 <= age:\n",
    "        return '65+'\n",
    "    else:\n",
    "        print('!! check this function !!')\n",
    "        return 'other'\n",
    "    \n",
    "df_eda['age_bucket'] = df_eda['age'].apply(lambda x: get_age_bucket(x))\n",
    "df_eda['age_bucket'].value_counts()"
   ]
  },
  {
   "cell_type": "code",
   "execution_count": 10,
   "metadata": {
    "collapsed": true
   },
   "outputs": [],
   "source": [
    "# single function to visualize feature counts and relationship with conversion\n",
    "\n",
    "def visualize_feature(df, feature):\n",
    "    if df_eda[feature].nunique() > 4:\n",
    "        figsize = (10, 5)\n",
    "    else:\n",
    "        figsize = (8, 3)\n",
    "        \n",
    "    if feature in ['age_bucket']:\n",
    "        kind = 'bar'\n",
    "    else:\n",
    "        kind = 'barh'\n",
    "        \n",
    "    sort_column = feature    \n",
    "    if feature in ['channel']:\n",
    "        sort_column = 'customer'\n",
    "            \n",
    "    print('%s ordered by conversion' %feature)\n",
    "    p = df_eda.pivot_table(index=feature, values='customer', aggfunc={'customer': ['count', 'mean']}).reset_index()\n",
    "    p['count%'] = p['count'] / p['count'].sum()\n",
    "    p = p[[feature, 'count', 'count%', 'mean']]\n",
    "    p.rename(index=str, columns={'mean': 'conversion'}, inplace=True)\n",
    "    display(p.round({'count%': 3, 'conversion': 3}).sort_values(by='conversion', ascending=False))\n",
    "    \n",
    "    pivot_count = df.pivot_table(index=feature, values='customer', aggfunc='count').reset_index().sort_values(by=sort_column, ascending=True)\n",
    "    pivot_mean = df.pivot_table(index=feature, values='customer', aggfunc='mean').reset_index().sort_values(by=sort_column, ascending=True)\n",
    "    ax = pivot_count.plot(x=feature, y='customer', kind=kind, figsize=figsize, colormap='Set2', title='Subscriber Count by %s' %feature, legend=False)\n",
    "    ax.set_xlabel('')\n",
    "    ax.set_ylabel('')\n",
    "    plt.show()\n",
    "    ax = pivot_mean.plot(x=feature, y='customer', kind=kind, figsize=figsize, colormap='Set2', title = 'Conversion by %s' %feature, legend=False)\n",
    "    print('\\n')\n",
    "    ax.set_xlabel('')\n",
    "    ax.set_ylabel('')\n",
    "    plt.show()"
   ]
  },
  {
   "cell_type": "markdown",
   "metadata": {},
   "source": [
    "### Age Buckets\n",
    "\n",
    "- older ages have more conversion ratios\n",
    "- most users are from 25-34\n",
    "- age is an important factor"
   ]
  },
  {
   "cell_type": "code",
   "execution_count": 11,
   "metadata": {},
   "outputs": [
    {
     "name": "stdout",
     "output_type": "stream",
     "text": [
      "age_bucket ordered by conversion\n"
     ]
    },
    {
     "data": {
      "text/html": [
       "<div>\n",
       "<style>\n",
       "    .dataframe thead tr:only-child th {\n",
       "        text-align: right;\n",
       "    }\n",
       "\n",
       "    .dataframe thead th {\n",
       "        text-align: left;\n",
       "    }\n",
       "\n",
       "    .dataframe tbody tr th {\n",
       "        vertical-align: top;\n",
       "    }\n",
       "</style>\n",
       "<table border=\"1\" class=\"dataframe\">\n",
       "  <thead>\n",
       "    <tr style=\"text-align: right;\">\n",
       "      <th></th>\n",
       "      <th>age_bucket</th>\n",
       "      <th>count</th>\n",
       "      <th>count%</th>\n",
       "      <th>conversion</th>\n",
       "    </tr>\n",
       "  </thead>\n",
       "  <tbody>\n",
       "    <tr>\n",
       "      <th>6</th>\n",
       "      <td>65+</td>\n",
       "      <td>629</td>\n",
       "      <td>0.008</td>\n",
       "      <td>0.533</td>\n",
       "    </tr>\n",
       "    <tr>\n",
       "      <th>5</th>\n",
       "      <td>55-64</td>\n",
       "      <td>2833</td>\n",
       "      <td>0.034</td>\n",
       "      <td>0.515</td>\n",
       "    </tr>\n",
       "    <tr>\n",
       "      <th>4</th>\n",
       "      <td>45-54</td>\n",
       "      <td>8428</td>\n",
       "      <td>0.102</td>\n",
       "      <td>0.450</td>\n",
       "    </tr>\n",
       "    <tr>\n",
       "      <th>3</th>\n",
       "      <td>35-44</td>\n",
       "      <td>16391</td>\n",
       "      <td>0.198</td>\n",
       "      <td>0.363</td>\n",
       "    </tr>\n",
       "    <tr>\n",
       "      <th>2</th>\n",
       "      <td>25-34</td>\n",
       "      <td>26823</td>\n",
       "      <td>0.324</td>\n",
       "      <td>0.273</td>\n",
       "    </tr>\n",
       "    <tr>\n",
       "      <th>1</th>\n",
       "      <td>18-24</td>\n",
       "      <td>18069</td>\n",
       "      <td>0.218</td>\n",
       "      <td>0.215</td>\n",
       "    </tr>\n",
       "    <tr>\n",
       "      <th>0</th>\n",
       "      <td>12-18</td>\n",
       "      <td>9735</td>\n",
       "      <td>0.117</td>\n",
       "      <td>0.202</td>\n",
       "    </tr>\n",
       "  </tbody>\n",
       "</table>\n",
       "</div>"
      ],
      "text/plain": [
       "  age_bucket  count  count%  conversion\n",
       "6        65+    629   0.008       0.533\n",
       "5      55-64   2833   0.034       0.515\n",
       "4      45-54   8428   0.102       0.450\n",
       "3      35-44  16391   0.198       0.363\n",
       "2      25-34  26823   0.324       0.273\n",
       "1      18-24  18069   0.218       0.215\n",
       "0      12-18   9735   0.117       0.202"
      ]
     },
     "metadata": {},
     "output_type": "display_data"
    },
    {
     "data": {
      "image/png": "[encoded data removed]",
      "text/plain": [
       "<matplotlib.figure.Figure at 0x11de7a278>"
      ]
     },
     "metadata": {},
     "output_type": "display_data"
    },
    {
     "name": "stdout",
     "output_type": "stream",
     "text": [
      "\n",
      "\n"
     ]
    },
    {
     "data": {
      "image/png": "[encoded data removed]",
      "text/plain": [
       "<matplotlib.figure.Figure at 0x111ad5470>"
      ]
     },
     "metadata": {},
     "output_type": "display_data"
    }
   ],
   "source": [
    "visualize_feature(df_eda, 'age_bucket')"
   ]
  },
  {
   "cell_type": "markdown",
   "metadata": {},
   "source": [
    "### Operating System\n",
    "- we have less android users\n",
    "- iOS users convert more, it is an expected result since iOS products are more expensive in general. The difference is not huge.\n"
   ]
  },
  {
   "cell_type": "code",
   "execution_count": 13,
   "metadata": {},
   "outputs": [
    {
     "name": "stdout",
     "output_type": "stream",
     "text": [
      "os ordered by conversion\n"
     ]
    },
    {
     "data": {
      "text/html": [
       "<div>\n",
       "<style>\n",
       "    .dataframe thead tr:only-child th {\n",
       "        text-align: right;\n",
       "    }\n",
       "\n",
       "    .dataframe thead th {\n",
       "        text-align: left;\n",
       "    }\n",
       "\n",
       "    .dataframe tbody tr th {\n",
       "        vertical-align: top;\n",
       "    }\n",
       "</style>\n",
       "<table border=\"1\" class=\"dataframe\">\n",
       "  <thead>\n",
       "    <tr style=\"text-align: right;\">\n",
       "      <th></th>\n",
       "      <th>os</th>\n",
       "      <th>count</th>\n",
       "      <th>count%</th>\n",
       "      <th>conversion</th>\n",
       "    </tr>\n",
       "  </thead>\n",
       "  <tbody>\n",
       "    <tr>\n",
       "      <th>1</th>\n",
       "      <td>ios</td>\n",
       "      <td>48662</td>\n",
       "      <td>0.587</td>\n",
       "      <td>0.314</td>\n",
       "    </tr>\n",
       "    <tr>\n",
       "      <th>0</th>\n",
       "      <td>android</td>\n",
       "      <td>34246</td>\n",
       "      <td>0.413</td>\n",
       "      <td>0.276</td>\n",
       "    </tr>\n",
       "  </tbody>\n",
       "</table>\n",
       "</div>"
      ],
      "text/plain": [
       "        os  count  count%  conversion\n",
       "1      ios  48662   0.587       0.314\n",
       "0  android  34246   0.413       0.276"
      ]
     },
     "metadata": {},
     "output_type": "display_data"
    },
    {
     "data": {
      "image/png": "[encoded data removed]",
      "text/plain": [
       "<matplotlib.figure.Figure at 0x11f873a90>"
      ]
     },
     "metadata": {},
     "output_type": "display_data"
    },
    {
     "name": "stdout",
     "output_type": "stream",
     "text": [
      "\n",
      "\n"
     ]
    },
    {
     "data": {
      "image/png": "[encoded data removed]",
      "text/plain": [
       "<matplotlib.figure.Figure at 0x11eef5a58>"
      ]
     },
     "metadata": {},
     "output_type": "display_data"
    }
   ],
   "source": [
    "visualize_feature(df_eda, 'os')"
   ]
  },
  {
   "cell_type": "markdown",
   "metadata": {},
   "source": [
    "### Gender\n",
    "- we have 2.2 times more female users than male users however male users conversion is slightly higher "
   ]
  },
  {
   "cell_type": "code",
   "execution_count": 14,
   "metadata": {},
   "outputs": [
    {
     "name": "stdout",
     "output_type": "stream",
     "text": [
      "gender ordered by conversion\n"
     ]
    },
    {
     "data": {
      "text/html": [
       "<div>\n",
       "<style>\n",
       "    .dataframe thead tr:only-child th {\n",
       "        text-align: right;\n",
       "    }\n",
       "\n",
       "    .dataframe thead th {\n",
       "        text-align: left;\n",
       "    }\n",
       "\n",
       "    .dataframe tbody tr th {\n",
       "        vertical-align: top;\n",
       "    }\n",
       "</style>\n",
       "<table border=\"1\" class=\"dataframe\">\n",
       "  <thead>\n",
       "    <tr style=\"text-align: right;\">\n",
       "      <th></th>\n",
       "      <th>gender</th>\n",
       "      <th>count</th>\n",
       "      <th>count%</th>\n",
       "      <th>conversion</th>\n",
       "    </tr>\n",
       "  </thead>\n",
       "  <tbody>\n",
       "    <tr>\n",
       "      <th>1</th>\n",
       "      <td>male</td>\n",
       "      <td>25877</td>\n",
       "      <td>0.312</td>\n",
       "      <td>0.311</td>\n",
       "    </tr>\n",
       "    <tr>\n",
       "      <th>0</th>\n",
       "      <td>female</td>\n",
       "      <td>57031</td>\n",
       "      <td>0.688</td>\n",
       "      <td>0.292</td>\n",
       "    </tr>\n",
       "  </tbody>\n",
       "</table>\n",
       "</div>"
      ],
      "text/plain": [
       "   gender  count  count%  conversion\n",
       "1    male  25877   0.312       0.311\n",
       "0  female  57031   0.688       0.292"
      ]
     },
     "metadata": {},
     "output_type": "display_data"
    },
    {
     "data": {
      "image/png": "[encoded data removed]",
      "text/plain": [
       "<matplotlib.figure.Figure at 0x11eed3048>"
      ]
     },
     "metadata": {},
     "output_type": "display_data"
    },
    {
     "name": "stdout",
     "output_type": "stream",
     "text": [
      "\n",
      "\n"
     ]
    },
    {
     "data": {
      "image/png": "[encoded data removed]",
      "text/plain": [
       "<matplotlib.figure.Figure at 0x111ac2d30>"
      ]
     },
     "metadata": {},
     "output_type": "display_data"
    }
   ],
   "source": [
    "visualize_feature(df_eda, 'gender')"
   ]
  },
  {
   "cell_type": "markdown",
   "metadata": {},
   "source": [
    "### Country\n",
    "- majority of our users are from the US\n",
    "- France has high conversion ratio, but they have the least user count. High conversion rate might be a bias"
   ]
  },
  {
   "cell_type": "code",
   "execution_count": 16,
   "metadata": {},
   "outputs": [
    {
     "name": "stdout",
     "output_type": "stream",
     "text": [
      "country ordered by conversion\n"
     ]
    },
    {
     "data": {
      "text/html": [
       "<div>\n",
       "<style>\n",
       "    .dataframe thead tr:only-child th {\n",
       "        text-align: right;\n",
       "    }\n",
       "\n",
       "    .dataframe thead th {\n",
       "        text-align: left;\n",
       "    }\n",
       "\n",
       "    .dataframe tbody tr th {\n",
       "        vertical-align: top;\n",
       "    }\n",
       "</style>\n",
       "<table border=\"1\" class=\"dataframe\">\n",
       "  <thead>\n",
       "    <tr style=\"text-align: right;\">\n",
       "      <th></th>\n",
       "      <th>country</th>\n",
       "      <th>count</th>\n",
       "      <th>count%</th>\n",
       "      <th>conversion</th>\n",
       "    </tr>\n",
       "  </thead>\n",
       "  <tbody>\n",
       "    <tr>\n",
       "      <th>4</th>\n",
       "      <td>FR</td>\n",
       "      <td>2170</td>\n",
       "      <td>0.026</td>\n",
       "      <td>0.374</td>\n",
       "    </tr>\n",
       "    <tr>\n",
       "      <th>0</th>\n",
       "      <td>AU</td>\n",
       "      <td>3398</td>\n",
       "      <td>0.041</td>\n",
       "      <td>0.313</td>\n",
       "    </tr>\n",
       "    <tr>\n",
       "      <th>7</th>\n",
       "      <td>US</td>\n",
       "      <td>50855</td>\n",
       "      <td>0.613</td>\n",
       "      <td>0.308</td>\n",
       "    </tr>\n",
       "    <tr>\n",
       "      <th>5</th>\n",
       "      <td>GB</td>\n",
       "      <td>9226</td>\n",
       "      <td>0.111</td>\n",
       "      <td>0.296</td>\n",
       "    </tr>\n",
       "    <tr>\n",
       "      <th>2</th>\n",
       "      <td>DE</td>\n",
       "      <td>2849</td>\n",
       "      <td>0.034</td>\n",
       "      <td>0.293</td>\n",
       "    </tr>\n",
       "    <tr>\n",
       "      <th>1</th>\n",
       "      <td>CA</td>\n",
       "      <td>4483</td>\n",
       "      <td>0.054</td>\n",
       "      <td>0.284</td>\n",
       "    </tr>\n",
       "    <tr>\n",
       "      <th>3</th>\n",
       "      <td>ES</td>\n",
       "      <td>4172</td>\n",
       "      <td>0.050</td>\n",
       "      <td>0.267</td>\n",
       "    </tr>\n",
       "    <tr>\n",
       "      <th>6</th>\n",
       "      <td>MX</td>\n",
       "      <td>5755</td>\n",
       "      <td>0.069</td>\n",
       "      <td>0.207</td>\n",
       "    </tr>\n",
       "  </tbody>\n",
       "</table>\n",
       "</div>"
      ],
      "text/plain": [
       "  country  count  count%  conversion\n",
       "4      FR   2170   0.026       0.374\n",
       "0      AU   3398   0.041       0.313\n",
       "7      US  50855   0.613       0.308\n",
       "5      GB   9226   0.111       0.296\n",
       "2      DE   2849   0.034       0.293\n",
       "1      CA   4483   0.054       0.284\n",
       "3      ES   4172   0.050       0.267\n",
       "6      MX   5755   0.069       0.207"
      ]
     },
     "metadata": {},
     "output_type": "display_data"
    },
    {
     "data": {
      "image/png": "[encoded data removed]",
      "text/plain": [
       "<matplotlib.figure.Figure at 0x111ac2a58>"
      ]
     },
     "metadata": {},
     "output_type": "display_data"
    },
    {
     "name": "stdout",
     "output_type": "stream",
     "text": [
      "\n",
      "\n"
     ]
    },
    {
     "data": {
      "image/png": "[encoded data removed]",
      "text/plain": [
       "<matplotlib.figure.Figure at 0x11ee112b0>"
      ]
     },
     "metadata": {},
     "output_type": "display_data"
    }
   ],
   "source": [
    "visualize_feature(df_eda, 'country')"
   ]
  },
  {
   "cell_type": "markdown",
   "metadata": {},
   "source": [
    "### Channel\n",
    "- Taboola and Outbrain channels outperforming traditional acquisition channels like Google and FB.\n",
    "- High conversion shows the importance of creating high-quality content\n"
   ]
  },
  {
   "cell_type": "code",
   "execution_count": 18,
   "metadata": {},
   "outputs": [
    {
     "name": "stdout",
     "output_type": "stream",
     "text": [
      "channel ordered by conversion\n"
     ]
    },
    {
     "data": {
      "text/html": [
       "<div>\n",
       "<style>\n",
       "    .dataframe thead tr:only-child th {\n",
       "        text-align: right;\n",
       "    }\n",
       "\n",
       "    .dataframe thead th {\n",
       "        text-align: left;\n",
       "    }\n",
       "\n",
       "    .dataframe tbody tr th {\n",
       "        vertical-align: top;\n",
       "    }\n",
       "</style>\n",
       "<table border=\"1\" class=\"dataframe\">\n",
       "  <thead>\n",
       "    <tr style=\"text-align: right;\">\n",
       "      <th></th>\n",
       "      <th>channel</th>\n",
       "      <th>count</th>\n",
       "      <th>count%</th>\n",
       "      <th>conversion</th>\n",
       "    </tr>\n",
       "  </thead>\n",
       "  <tbody>\n",
       "    <tr>\n",
       "      <th>6</th>\n",
       "      <td>32 Taboola</td>\n",
       "      <td>2789</td>\n",
       "      <td>0.034</td>\n",
       "      <td>0.457</td>\n",
       "    </tr>\n",
       "    <tr>\n",
       "      <th>5</th>\n",
       "      <td>31 OUTBRAIN</td>\n",
       "      <td>6237</td>\n",
       "      <td>0.075</td>\n",
       "      <td>0.426</td>\n",
       "    </tr>\n",
       "    <tr>\n",
       "      <th>11</th>\n",
       "      <td>69 Others</td>\n",
       "      <td>876</td>\n",
       "      <td>0.011</td>\n",
       "      <td>0.352</td>\n",
       "    </tr>\n",
       "    <tr>\n",
       "      <th>12</th>\n",
       "      <td>95 LAT</td>\n",
       "      <td>7043</td>\n",
       "      <td>0.085</td>\n",
       "      <td>0.333</td>\n",
       "    </tr>\n",
       "    <tr>\n",
       "      <th>0</th>\n",
       "      <td>00 Organic</td>\n",
       "      <td>21795</td>\n",
       "      <td>0.263</td>\n",
       "      <td>0.302</td>\n",
       "    </tr>\n",
       "    <tr>\n",
       "      <th>2</th>\n",
       "      <td>12 PINTEREST</td>\n",
       "      <td>13564</td>\n",
       "      <td>0.164</td>\n",
       "      <td>0.297</td>\n",
       "    </tr>\n",
       "    <tr>\n",
       "      <th>9</th>\n",
       "      <td>61 Web/Content</td>\n",
       "      <td>390</td>\n",
       "      <td>0.005</td>\n",
       "      <td>0.295</td>\n",
       "    </tr>\n",
       "    <tr>\n",
       "      <th>3</th>\n",
       "      <td>21 ASA</td>\n",
       "      <td>2108</td>\n",
       "      <td>0.025</td>\n",
       "      <td>0.278</td>\n",
       "    </tr>\n",
       "    <tr>\n",
       "      <th>8</th>\n",
       "      <td>42 Adcolony</td>\n",
       "      <td>4806</td>\n",
       "      <td>0.058</td>\n",
       "      <td>0.269</td>\n",
       "    </tr>\n",
       "    <tr>\n",
       "      <th>1</th>\n",
       "      <td>11 FB</td>\n",
       "      <td>8857</td>\n",
       "      <td>0.107</td>\n",
       "      <td>0.250</td>\n",
       "    </tr>\n",
       "    <tr>\n",
       "      <th>10</th>\n",
       "      <td>62 Social Media</td>\n",
       "      <td>550</td>\n",
       "      <td>0.007</td>\n",
       "      <td>0.247</td>\n",
       "    </tr>\n",
       "    <tr>\n",
       "      <th>4</th>\n",
       "      <td>22 Adwords (Search)</td>\n",
       "      <td>7371</td>\n",
       "      <td>0.089</td>\n",
       "      <td>0.228</td>\n",
       "    </tr>\n",
       "    <tr>\n",
       "      <th>7</th>\n",
       "      <td>41 Youtube</td>\n",
       "      <td>6522</td>\n",
       "      <td>0.079</td>\n",
       "      <td>0.227</td>\n",
       "    </tr>\n",
       "  </tbody>\n",
       "</table>\n",
       "</div>"
      ],
      "text/plain": [
       "                channel  count  count%  conversion\n",
       "6            32 Taboola   2789   0.034       0.457\n",
       "5           31 OUTBRAIN   6237   0.075       0.426\n",
       "11            69 Others    876   0.011       0.352\n",
       "12               95 LAT   7043   0.085       0.333\n",
       "0            00 Organic  21795   0.263       0.302\n",
       "2          12 PINTEREST  13564   0.164       0.297\n",
       "9        61 Web/Content    390   0.005       0.295\n",
       "3                21 ASA   2108   0.025       0.278\n",
       "8           42 Adcolony   4806   0.058       0.269\n",
       "1                 11 FB   8857   0.107       0.250\n",
       "10      62 Social Media    550   0.007       0.247\n",
       "4   22 Adwords (Search)   7371   0.089       0.228\n",
       "7            41 Youtube   6522   0.079       0.227"
      ]
     },
     "metadata": {},
     "output_type": "display_data"
    },
    {
     "data": {
      "image/png": "[encoded data removed]",
      "text/plain": [
       "<matplotlib.figure.Figure at 0x11ef11908>"
      ]
     },
     "metadata": {},
     "output_type": "display_data"
    },
    {
     "name": "stdout",
     "output_type": "stream",
     "text": [
      "\n",
      "\n"
     ]
    },
    {
     "data": {
      "image/png": "[encoded data removed]",
      "text/plain": [
       "<matplotlib.figure.Figure at 0x11eef7cc0>"
      ]
     },
     "metadata": {},
     "output_type": "display_data"
    }
   ],
   "source": [
    "visualize_feature(df_eda, 'channel')"
   ]
  },
  {
   "cell_type": "markdown",
   "metadata": {},
   "source": [
    "## Statistical Independence of Features vs Conversion\n",
    "I will make a chi2 test with each feature to test if conversion is independent of it or not. If it is independent, probably It will not be valuable for the prediction model "
   ]
  },
  {
   "cell_type": "code",
   "execution_count": 19,
   "metadata": {},
   "outputs": [
    {
     "data": {
      "text/html": [
       "<div>\n",
       "<style>\n",
       "    .dataframe thead tr:only-child th {\n",
       "        text-align: right;\n",
       "    }\n",
       "\n",
       "    .dataframe thead th {\n",
       "        text-align: left;\n",
       "    }\n",
       "\n",
       "    .dataframe tbody tr th {\n",
       "        vertical-align: top;\n",
       "    }\n",
       "</style>\n",
       "<table border=\"1\" class=\"dataframe\">\n",
       "  <thead>\n",
       "    <tr style=\"text-align: right;\">\n",
       "      <th></th>\n",
       "      <th>user_id</th>\n",
       "      <th>channel</th>\n",
       "      <th>age</th>\n",
       "      <th>os</th>\n",
       "      <th>gender</th>\n",
       "      <th>country</th>\n",
       "      <th>customer</th>\n",
       "      <th>age_bucket</th>\n",
       "    </tr>\n",
       "  </thead>\n",
       "  <tbody>\n",
       "    <tr>\n",
       "      <th>10028</th>\n",
       "      <td>110028</td>\n",
       "      <td>12 PINTEREST</td>\n",
       "      <td>22</td>\n",
       "      <td>ios</td>\n",
       "      <td>female</td>\n",
       "      <td>US</td>\n",
       "      <td>0</td>\n",
       "      <td>18-24</td>\n",
       "    </tr>\n",
       "    <tr>\n",
       "      <th>69961</th>\n",
       "      <td>169961</td>\n",
       "      <td>41 Youtube</td>\n",
       "      <td>42</td>\n",
       "      <td>android</td>\n",
       "      <td>male</td>\n",
       "      <td>ES</td>\n",
       "      <td>0</td>\n",
       "      <td>35-44</td>\n",
       "    </tr>\n",
       "    <tr>\n",
       "      <th>38325</th>\n",
       "      <td>138325</td>\n",
       "      <td>00 Organic</td>\n",
       "      <td>23</td>\n",
       "      <td>ios</td>\n",
       "      <td>female</td>\n",
       "      <td>AU</td>\n",
       "      <td>1</td>\n",
       "      <td>18-24</td>\n",
       "    </tr>\n",
       "  </tbody>\n",
       "</table>\n",
       "</div>"
      ],
      "text/plain": [
       "       user_id       channel  age       os  gender country  customer  \\\n",
       "10028   110028  12 PINTEREST   22      ios  female      US         0   \n",
       "69961   169961    41 Youtube   42  android    male      ES         0   \n",
       "38325   138325    00 Organic   23      ios  female      AU         1   \n",
       "\n",
       "      age_bucket  \n",
       "10028      18-24  \n",
       "69961      35-44  \n",
       "38325      18-24  "
      ]
     },
     "execution_count": 19,
     "metadata": {},
     "output_type": "execute_result"
    }
   ],
   "source": [
    "df_eda.sample(3)"
   ]
  },
  {
   "cell_type": "code",
   "execution_count": 20,
   "metadata": {},
   "outputs": [
    {
     "name": "stdout",
     "output_type": "stream",
     "text": [
      "channel 2.20158709875e-280\n",
      "os 5.09199835687e-32\n",
      "gender 6.30382693246e-08\n",
      "country 2.67837801513e-69\n",
      "age_bucket 0.0\n"
     ]
    }
   ],
   "source": [
    "for i in df_eda.drop(['user_id', 'customer', 'age'], axis=1).columns:\n",
    "    p_value = chi2_contingency(df_eda.pivot_table(index='customer', columns=i, values='user_id', aggfunc='count'))[1]\n",
    "    print(i, p_value)"
   ]
  },
  {
   "cell_type": "markdown",
   "metadata": {},
   "source": [
    "all p-values are very small (far less than 95% conf level), for all our features we can say that **conversion is not independent** from that it."
   ]
  },
  {
   "cell_type": "markdown",
   "metadata": {},
   "source": [
    "# Summary of Explanatory Data Analysis\n",
    "- Age is an important factor in conversion. In general conversion increases with age\n",
    "<br><br>\n",
    "- We have more iOS users than Android (60% vs 40%), conversion is slightly higher for iOS\n",
    "<br><br>\n",
    "- We have more Female users than Male (70% vs 30%), conversion is slightly higher for Male\n",
    "<br><br>\n",
    "- 60% of users are from the US. France has highest conversion rates (37%) but with lowest users ratio (2.5%)\n",
    "<br><br>\n",
    "- Users acquired from Taboola and Outbrain have highest conversion ratios. Most of the users are acquired organically. \n",
    "<br><br>\n",
    "- Age, Gender, Operating System, Country and Channel all these features are important on conversion"
   ]
  },
  {
   "cell_type": "markdown",
   "metadata": {},
   "source": [
    "-----"
   ]
  },
  {
   "cell_type": "markdown",
   "metadata": {},
   "source": [
    "# 2) Prediction Model\n",
    "\n",
    "Steps:\n",
    "- data wrangling\n",
    "- train/test split\n",
    "- over/under sampling on training data\n",
    "- train different models with default params\n",
    "- parameter optimization on best model from prev. step\n",
    "- predictions"
   ]
  },
  {
   "cell_type": "code",
   "execution_count": 22,
   "metadata": {},
   "outputs": [
    {
     "data": {
      "text/html": [
       "<div>\n",
       "<style>\n",
       "    .dataframe thead tr:only-child th {\n",
       "        text-align: right;\n",
       "    }\n",
       "\n",
       "    .dataframe thead th {\n",
       "        text-align: left;\n",
       "    }\n",
       "\n",
       "    .dataframe tbody tr th {\n",
       "        vertical-align: top;\n",
       "    }\n",
       "</style>\n",
       "<table border=\"1\" class=\"dataframe\">\n",
       "  <thead>\n",
       "    <tr style=\"text-align: right;\">\n",
       "      <th></th>\n",
       "      <th>user_id</th>\n",
       "      <th>channel</th>\n",
       "      <th>age</th>\n",
       "      <th>os</th>\n",
       "      <th>gender</th>\n",
       "      <th>country</th>\n",
       "      <th>customer</th>\n",
       "    </tr>\n",
       "  </thead>\n",
       "  <tbody>\n",
       "    <tr>\n",
       "      <th>32772</th>\n",
       "      <td>132772</td>\n",
       "      <td>22 Adwords (Search)</td>\n",
       "      <td>23</td>\n",
       "      <td>android</td>\n",
       "      <td>male</td>\n",
       "      <td>US</td>\n",
       "      <td>0</td>\n",
       "    </tr>\n",
       "    <tr>\n",
       "      <th>57080</th>\n",
       "      <td>157080</td>\n",
       "      <td>12 PINTEREST</td>\n",
       "      <td>29</td>\n",
       "      <td>android</td>\n",
       "      <td>male</td>\n",
       "      <td>US</td>\n",
       "      <td>0</td>\n",
       "    </tr>\n",
       "    <tr>\n",
       "      <th>42919</th>\n",
       "      <td>142919</td>\n",
       "      <td>00 Organic</td>\n",
       "      <td>35</td>\n",
       "      <td>ios</td>\n",
       "      <td>female</td>\n",
       "      <td>US</td>\n",
       "      <td>0</td>\n",
       "    </tr>\n",
       "    <tr>\n",
       "      <th>78419</th>\n",
       "      <td>178419</td>\n",
       "      <td>00 Organic</td>\n",
       "      <td>33</td>\n",
       "      <td>android</td>\n",
       "      <td>male</td>\n",
       "      <td>US</td>\n",
       "      <td>0</td>\n",
       "    </tr>\n",
       "    <tr>\n",
       "      <th>22178</th>\n",
       "      <td>122178</td>\n",
       "      <td>41 Youtube</td>\n",
       "      <td>38</td>\n",
       "      <td>ios</td>\n",
       "      <td>male</td>\n",
       "      <td>ES</td>\n",
       "      <td>0</td>\n",
       "    </tr>\n",
       "  </tbody>\n",
       "</table>\n",
       "</div>"
      ],
      "text/plain": [
       "       user_id              channel  age       os  gender country  customer\n",
       "32772   132772  22 Adwords (Search)   23  android    male      US         0\n",
       "57080   157080         12 PINTEREST   29  android    male      US         0\n",
       "42919   142919           00 Organic   35      ios  female      US         0\n",
       "78419   178419           00 Organic   33  android    male      US         0\n",
       "22178   122178           41 Youtube   38      ios    male      ES         0"
      ]
     },
     "execution_count": 22,
     "metadata": {},
     "output_type": "execute_result"
    }
   ],
   "source": [
    "# load model again on a different dataframe\n",
    "df = pd.read_csv('./train_data.csv')\n",
    "df.sample(5)"
   ]
  },
  {
   "cell_type": "code",
   "execution_count": 29,
   "metadata": {},
   "outputs": [],
   "source": [
    "# This function will be used both in training and prediction data. It prepares data for \n",
    "# machine learning models by doing label encoding, normalisation and one-hot-encoding\n",
    "\n",
    "def prepare_data(df):\n",
    "    df_final = deepcopy(df)\n",
    "     \n",
    "    # since os and gender have 2 unique values, I will convert them to binary (instead of 2 columns after one-hot-encoding)\n",
    "    gender_dict = {'male': 1, 'female': 0}\n",
    "    os_dict = {'ios': 1, 'android': 0}\n",
    "    df_final['gender'] = df['gender'].apply(lambda x: gender_dict[x])\n",
    "    df_final['os'] = df['os'].apply(lambda x: os_dict[x])\n",
    "    \n",
    "    \n",
    "    # one hot encoding for channel and country columns\n",
    "    for i in ['channel', 'country']:\n",
    "        if i in df.columns:\n",
    "            df_final = pd.concat([df_final, pd.get_dummies(df[i], prefix='is')], axis=1) # concat one hot encoding to original df\n",
    "            df_final.drop([i], axis=1, inplace=True) # drop the original column\n",
    "\n",
    "            \n",
    "    # min-max scale age in range of [0,1] --> not critical for decision trees but good for other models \n",
    "    scaler = MinMaxScaler()\n",
    "    df_final['age'] = scaler.fit_transform(pd.DataFrame(df['age']))\n",
    "\n",
    "    \n",
    "    # remove user_id, meaningless for prediction model\n",
    "    df_final.drop(['user_id'], axis=1, inplace=True)\n",
    "    \n",
    "    return df_final"
   ]
  },
  {
   "cell_type": "code",
   "execution_count": 30,
   "metadata": {
    "collapsed": true
   },
   "outputs": [],
   "source": [
    "X = df.drop(['customer'], axis=1)\n",
    "y = df['customer']"
   ]
  },
  {
   "cell_type": "code",
   "execution_count": 31,
   "metadata": {},
   "outputs": [
    {
     "data": {
      "text/plain": [
       "((66326, 24), (16582, 24))"
      ]
     },
     "execution_count": 31,
     "metadata": {},
     "output_type": "execute_result"
    }
   ],
   "source": [
    "# I am doing data preparation AFTER train/test split to prevent data leakage. Otherwise, MinMaxScaler results will be different\n",
    "\n",
    "X_train_raw, X_test_raw, y_train, y_test = train_test_split(X, y, test_size=0.2) # create train/test split\n",
    "\n",
    "X_train = prepare_data(X_train_raw)\n",
    "X_test = prepare_data(X_test_raw)\n",
    "\n",
    "X_train.shape, X_test.shape"
   ]
  },
  {
   "cell_type": "code",
   "execution_count": 32,
   "metadata": {},
   "outputs": [
    {
     "data": {
      "text/html": [
       "<div>\n",
       "<style>\n",
       "    .dataframe thead tr:only-child th {\n",
       "        text-align: right;\n",
       "    }\n",
       "\n",
       "    .dataframe thead th {\n",
       "        text-align: left;\n",
       "    }\n",
       "\n",
       "    .dataframe tbody tr th {\n",
       "        vertical-align: top;\n",
       "    }\n",
       "</style>\n",
       "<table border=\"1\" class=\"dataframe\">\n",
       "  <thead>\n",
       "    <tr style=\"text-align: right;\">\n",
       "      <th></th>\n",
       "      <th>age</th>\n",
       "      <th>os</th>\n",
       "      <th>gender</th>\n",
       "      <th>is_00 Organic</th>\n",
       "      <th>is_11 FB</th>\n",
       "      <th>is_12 PINTEREST</th>\n",
       "      <th>is_21 ASA</th>\n",
       "      <th>is_22 Adwords (Search)</th>\n",
       "      <th>is_31 OUTBRAIN</th>\n",
       "      <th>is_32 Taboola</th>\n",
       "      <th>...</th>\n",
       "      <th>is_69 Others</th>\n",
       "      <th>is_95 LAT</th>\n",
       "      <th>is_AU</th>\n",
       "      <th>is_CA</th>\n",
       "      <th>is_DE</th>\n",
       "      <th>is_ES</th>\n",
       "      <th>is_FR</th>\n",
       "      <th>is_GB</th>\n",
       "      <th>is_MX</th>\n",
       "      <th>is_US</th>\n",
       "    </tr>\n",
       "  </thead>\n",
       "  <tbody>\n",
       "    <tr>\n",
       "      <th>26742</th>\n",
       "      <td>0.452381</td>\n",
       "      <td>1</td>\n",
       "      <td>0</td>\n",
       "      <td>0</td>\n",
       "      <td>0</td>\n",
       "      <td>0</td>\n",
       "      <td>0</td>\n",
       "      <td>0</td>\n",
       "      <td>0</td>\n",
       "      <td>1</td>\n",
       "      <td>...</td>\n",
       "      <td>0</td>\n",
       "      <td>0</td>\n",
       "      <td>0</td>\n",
       "      <td>0</td>\n",
       "      <td>0</td>\n",
       "      <td>0</td>\n",
       "      <td>0</td>\n",
       "      <td>0</td>\n",
       "      <td>0</td>\n",
       "      <td>1</td>\n",
       "    </tr>\n",
       "    <tr>\n",
       "      <th>14612</th>\n",
       "      <td>0.142857</td>\n",
       "      <td>0</td>\n",
       "      <td>0</td>\n",
       "      <td>0</td>\n",
       "      <td>0</td>\n",
       "      <td>0</td>\n",
       "      <td>0</td>\n",
       "      <td>0</td>\n",
       "      <td>0</td>\n",
       "      <td>0</td>\n",
       "      <td>...</td>\n",
       "      <td>0</td>\n",
       "      <td>0</td>\n",
       "      <td>0</td>\n",
       "      <td>0</td>\n",
       "      <td>0</td>\n",
       "      <td>0</td>\n",
       "      <td>0</td>\n",
       "      <td>0</td>\n",
       "      <td>1</td>\n",
       "      <td>0</td>\n",
       "    </tr>\n",
       "    <tr>\n",
       "      <th>70515</th>\n",
       "      <td>0.321429</td>\n",
       "      <td>1</td>\n",
       "      <td>1</td>\n",
       "      <td>1</td>\n",
       "      <td>0</td>\n",
       "      <td>0</td>\n",
       "      <td>0</td>\n",
       "      <td>0</td>\n",
       "      <td>0</td>\n",
       "      <td>0</td>\n",
       "      <td>...</td>\n",
       "      <td>0</td>\n",
       "      <td>0</td>\n",
       "      <td>0</td>\n",
       "      <td>0</td>\n",
       "      <td>0</td>\n",
       "      <td>0</td>\n",
       "      <td>1</td>\n",
       "      <td>0</td>\n",
       "      <td>0</td>\n",
       "      <td>0</td>\n",
       "    </tr>\n",
       "    <tr>\n",
       "      <th>56442</th>\n",
       "      <td>0.071429</td>\n",
       "      <td>0</td>\n",
       "      <td>0</td>\n",
       "      <td>0</td>\n",
       "      <td>0</td>\n",
       "      <td>1</td>\n",
       "      <td>0</td>\n",
       "      <td>0</td>\n",
       "      <td>0</td>\n",
       "      <td>0</td>\n",
       "      <td>...</td>\n",
       "      <td>0</td>\n",
       "      <td>0</td>\n",
       "      <td>0</td>\n",
       "      <td>0</td>\n",
       "      <td>0</td>\n",
       "      <td>0</td>\n",
       "      <td>0</td>\n",
       "      <td>0</td>\n",
       "      <td>0</td>\n",
       "      <td>1</td>\n",
       "    </tr>\n",
       "    <tr>\n",
       "      <th>19454</th>\n",
       "      <td>0.226190</td>\n",
       "      <td>1</td>\n",
       "      <td>0</td>\n",
       "      <td>0</td>\n",
       "      <td>0</td>\n",
       "      <td>0</td>\n",
       "      <td>0</td>\n",
       "      <td>0</td>\n",
       "      <td>0</td>\n",
       "      <td>0</td>\n",
       "      <td>...</td>\n",
       "      <td>0</td>\n",
       "      <td>1</td>\n",
       "      <td>0</td>\n",
       "      <td>0</td>\n",
       "      <td>0</td>\n",
       "      <td>0</td>\n",
       "      <td>0</td>\n",
       "      <td>0</td>\n",
       "      <td>0</td>\n",
       "      <td>1</td>\n",
       "    </tr>\n",
       "  </tbody>\n",
       "</table>\n",
       "<p>5 rows × 24 columns</p>\n",
       "</div>"
      ],
      "text/plain": [
       "            age  os  gender  is_00 Organic  is_11 FB  is_12 PINTEREST  \\\n",
       "26742  0.452381   1       0              0         0                0   \n",
       "14612  0.142857   0       0              0         0                0   \n",
       "70515  0.321429   1       1              1         0                0   \n",
       "56442  0.071429   0       0              0         0                1   \n",
       "19454  0.226190   1       0              0         0                0   \n",
       "\n",
       "       is_21 ASA  is_22 Adwords (Search)  is_31 OUTBRAIN  is_32 Taboola  \\\n",
       "26742          0                       0               0              1   \n",
       "14612          0                       0               0              0   \n",
       "70515          0                       0               0              0   \n",
       "56442          0                       0               0              0   \n",
       "19454          0                       0               0              0   \n",
       "\n",
       "       ...    is_69 Others  is_95 LAT  is_AU  is_CA  is_DE  is_ES  is_FR  \\\n",
       "26742  ...               0          0      0      0      0      0      0   \n",
       "14612  ...               0          0      0      0      0      0      0   \n",
       "70515  ...               0          0      0      0      0      0      1   \n",
       "56442  ...               0          0      0      0      0      0      0   \n",
       "19454  ...               0          1      0      0      0      0      0   \n",
       "\n",
       "       is_GB  is_MX  is_US  \n",
       "26742      0      0      1  \n",
       "14612      0      1      0  \n",
       "70515      0      0      0  \n",
       "56442      0      0      1  \n",
       "19454      0      0      1  \n",
       "\n",
       "[5 rows x 24 columns]"
      ]
     },
     "execution_count": 32,
     "metadata": {},
     "output_type": "execute_result"
    }
   ],
   "source": [
    "X_train.sample(5)"
   ]
  },
  {
   "cell_type": "markdown",
   "metadata": {},
   "source": [
    "### visualize data on 2-dimensional space\n",
    "\n",
    "Let's apply PCA to visualise our data on the 2-dimensional plot. It might be useful to decide if linear or non-linear models will work better"
   ]
  },
  {
   "cell_type": "code",
   "execution_count": 33,
   "metadata": {},
   "outputs": [
    {
     "data": {
      "text/plain": [
       "<seaborn.axisgrid.FacetGrid at 0x11ffd4ac8>"
      ]
     },
     "execution_count": 33,
     "metadata": {},
     "output_type": "execute_result"
    },
    {
     "data": {
      "image/png": "[encoded data removed]",
      "text/plain": [
       "<matplotlib.figure.Figure at 0x11ffd45c0>"
      ]
     },
     "metadata": {},
     "output_type": "display_data"
    }
   ],
   "source": [
    "pca = PCA(n_components=2)\n",
    "pca_data = pd.DataFrame(pca.fit_transform(X_train), columns=['x', 'y'])\n",
    "pca_data['customer'] = y_train.values\n",
    "sns.lmplot(x='x', y='y', data=pca_data.sample(1000), fit_reg=False, hue=\"customer\", palette=\"Set1\", size=8)"
   ]
  },
  {
   "cell_type": "markdown",
   "metadata": {},
   "source": [
    "- It looks like there is no clear distinction between groups (at least when we decrease features to 2). \n",
    "- Not an easy classification problem, probably a sign of additional feature requirement and low performance"
   ]
  },
  {
   "cell_type": "markdown",
   "metadata": {},
   "source": [
    "### Under / Over Sampling\n",
    "\n",
    "I will generate different training datasets by oversampling and undersampling to compare performances"
   ]
  },
  {
   "cell_type": "code",
   "execution_count": 35,
   "metadata": {},
   "outputs": [
    {
     "data": {
      "text/plain": [
       "0.5"
      ]
     },
     "execution_count": 35,
     "metadata": {},
     "output_type": "execute_result"
    }
   ],
   "source": [
    "#oversample with Synthetic Minority Over-sampling Technique (SMOTE)\n",
    "\n",
    "X_train_os, y_train_os = SMOTE().fit_sample(X_train, y_train)\n",
    "X_train_os = pd.DataFrame(X_train_os, columns=X_train.columns)\n",
    "y_train_os.mean()"
   ]
  },
  {
   "cell_type": "code",
   "execution_count": 34,
   "metadata": {},
   "outputs": [
    {
     "data": {
      "text/plain": [
       "0.5"
      ]
     },
     "execution_count": 34,
     "metadata": {},
     "output_type": "execute_result"
    }
   ],
   "source": [
    "#undersample with Random Under Sampling\n",
    "\n",
    "X_train_us, y_train_us = RandomUnderSampler().fit_sample(X_train, y_train)\n",
    "X_train_us = pd.DataFrame(X_train_us, columns=X_train.columns)\n",
    "y_train_us.mean()"
   ]
  },
  {
   "cell_type": "markdown",
   "metadata": {},
   "source": [
    "both oversampled and undersampled data has %50 conversion ratio, it shows that our data is balanced now"
   ]
  },
  {
   "cell_type": "markdown",
   "metadata": {},
   "source": [
    "### Feature Selection\n",
    "- I will decide important features with Kbest"
   ]
  },
  {
   "cell_type": "code",
   "execution_count": 36,
   "metadata": {},
   "outputs": [
    {
     "data": {
      "text/html": [
       "<div>\n",
       "<style>\n",
       "    .dataframe thead tr:only-child th {\n",
       "        text-align: right;\n",
       "    }\n",
       "\n",
       "    .dataframe thead th {\n",
       "        text-align: left;\n",
       "    }\n",
       "\n",
       "    .dataframe tbody tr th {\n",
       "        vertical-align: top;\n",
       "    }\n",
       "</style>\n",
       "<table border=\"1\" class=\"dataframe\">\n",
       "  <thead>\n",
       "    <tr style=\"text-align: right;\">\n",
       "      <th></th>\n",
       "      <th>X</th>\n",
       "      <th>kbest_score</th>\n",
       "      <th>ratio</th>\n",
       "      <th>ratio_cumsum</th>\n",
       "    </tr>\n",
       "  </thead>\n",
       "  <tbody>\n",
       "    <tr>\n",
       "      <th>0</th>\n",
       "      <td>is_31 OUTBRAIN</td>\n",
       "      <td>382.002116</td>\n",
       "      <td>0.23</td>\n",
       "      <td>0.23</td>\n",
       "    </tr>\n",
       "    <tr>\n",
       "      <th>1</th>\n",
       "      <td>is_32 Taboola</td>\n",
       "      <td>281.788318</td>\n",
       "      <td>0.17</td>\n",
       "      <td>0.40</td>\n",
       "    </tr>\n",
       "    <tr>\n",
       "      <th>2</th>\n",
       "      <td>age</td>\n",
       "      <td>213.523455</td>\n",
       "      <td>0.13</td>\n",
       "      <td>0.53</td>\n",
       "    </tr>\n",
       "    <tr>\n",
       "      <th>3</th>\n",
       "      <td>is_MX</td>\n",
       "      <td>180.763192</td>\n",
       "      <td>0.11</td>\n",
       "      <td>0.64</td>\n",
       "    </tr>\n",
       "    <tr>\n",
       "      <th>4</th>\n",
       "      <td>is_22 Adwords (Search)</td>\n",
       "      <td>130.253836</td>\n",
       "      <td>0.08</td>\n",
       "      <td>0.72</td>\n",
       "    </tr>\n",
       "    <tr>\n",
       "      <th>5</th>\n",
       "      <td>is_41 Youtube</td>\n",
       "      <td>124.697257</td>\n",
       "      <td>0.08</td>\n",
       "      <td>0.80</td>\n",
       "    </tr>\n",
       "    <tr>\n",
       "      <th>6</th>\n",
       "      <td>is_11 FB</td>\n",
       "      <td>88.572763</td>\n",
       "      <td>0.05</td>\n",
       "      <td>0.85</td>\n",
       "    </tr>\n",
       "    <tr>\n",
       "      <th>7</th>\n",
       "      <td>is_FR</td>\n",
       "      <td>63.477164</td>\n",
       "      <td>0.04</td>\n",
       "      <td>0.89</td>\n",
       "    </tr>\n",
       "    <tr>\n",
       "      <th>8</th>\n",
       "      <td>os</td>\n",
       "      <td>44.867361</td>\n",
       "      <td>0.03</td>\n",
       "      <td>0.92</td>\n",
       "    </tr>\n",
       "    <tr>\n",
       "      <th>9</th>\n",
       "      <td>is_95 LAT</td>\n",
       "      <td>34.962770</td>\n",
       "      <td>0.02</td>\n",
       "      <td>0.94</td>\n",
       "    </tr>\n",
       "    <tr>\n",
       "      <th>10</th>\n",
       "      <td>is_42 Adcolony</td>\n",
       "      <td>17.829982</td>\n",
       "      <td>0.01</td>\n",
       "      <td>0.95</td>\n",
       "    </tr>\n",
       "    <tr>\n",
       "      <th>11</th>\n",
       "      <td>is_US</td>\n",
       "      <td>17.230881</td>\n",
       "      <td>0.01</td>\n",
       "      <td>0.96</td>\n",
       "    </tr>\n",
       "    <tr>\n",
       "      <th>12</th>\n",
       "      <td>gender</td>\n",
       "      <td>14.689311</td>\n",
       "      <td>0.01</td>\n",
       "      <td>0.97</td>\n",
       "    </tr>\n",
       "    <tr>\n",
       "      <th>13</th>\n",
       "      <td>is_ES</td>\n",
       "      <td>12.516974</td>\n",
       "      <td>0.01</td>\n",
       "      <td>0.98</td>\n",
       "    </tr>\n",
       "    <tr>\n",
       "      <th>14</th>\n",
       "      <td>is_69 Others</td>\n",
       "      <td>11.933340</td>\n",
       "      <td>0.01</td>\n",
       "      <td>0.99</td>\n",
       "    </tr>\n",
       "    <tr>\n",
       "      <th>15</th>\n",
       "      <td>is_AU</td>\n",
       "      <td>7.126150</td>\n",
       "      <td>0.00</td>\n",
       "      <td>0.99</td>\n",
       "    </tr>\n",
       "    <tr>\n",
       "      <th>16</th>\n",
       "      <td>is_CA</td>\n",
       "      <td>3.534017</td>\n",
       "      <td>0.00</td>\n",
       "      <td>0.99</td>\n",
       "    </tr>\n",
       "    <tr>\n",
       "      <th>17</th>\n",
       "      <td>is_62 Social Media</td>\n",
       "      <td>3.212182</td>\n",
       "      <td>0.00</td>\n",
       "      <td>0.99</td>\n",
       "    </tr>\n",
       "    <tr>\n",
       "      <th>18</th>\n",
       "      <td>is_21 ASA</td>\n",
       "      <td>1.535659</td>\n",
       "      <td>0.00</td>\n",
       "      <td>0.99</td>\n",
       "    </tr>\n",
       "    <tr>\n",
       "      <th>19</th>\n",
       "      <td>is_GB</td>\n",
       "      <td>0.616007</td>\n",
       "      <td>0.00</td>\n",
       "      <td>0.99</td>\n",
       "    </tr>\n",
       "    <tr>\n",
       "      <th>20</th>\n",
       "      <td>is_00 Organic</td>\n",
       "      <td>0.581512</td>\n",
       "      <td>0.00</td>\n",
       "      <td>0.99</td>\n",
       "    </tr>\n",
       "    <tr>\n",
       "      <th>21</th>\n",
       "      <td>is_61 Web/Content</td>\n",
       "      <td>0.251201</td>\n",
       "      <td>0.00</td>\n",
       "      <td>0.99</td>\n",
       "    </tr>\n",
       "    <tr>\n",
       "      <th>22</th>\n",
       "      <td>is_DE</td>\n",
       "      <td>0.103580</td>\n",
       "      <td>0.00</td>\n",
       "      <td>0.99</td>\n",
       "    </tr>\n",
       "    <tr>\n",
       "      <th>23</th>\n",
       "      <td>is_12 PINTEREST</td>\n",
       "      <td>0.007613</td>\n",
       "      <td>0.00</td>\n",
       "      <td>0.99</td>\n",
       "    </tr>\n",
       "  </tbody>\n",
       "</table>\n",
       "</div>"
      ],
      "text/plain": [
       "                         X  kbest_score  ratio  ratio_cumsum\n",
       "0           is_31 OUTBRAIN   382.002116   0.23          0.23\n",
       "1            is_32 Taboola   281.788318   0.17          0.40\n",
       "2                      age   213.523455   0.13          0.53\n",
       "3                    is_MX   180.763192   0.11          0.64\n",
       "4   is_22 Adwords (Search)   130.253836   0.08          0.72\n",
       "5            is_41 Youtube   124.697257   0.08          0.80\n",
       "6                 is_11 FB    88.572763   0.05          0.85\n",
       "7                    is_FR    63.477164   0.04          0.89\n",
       "8                       os    44.867361   0.03          0.92\n",
       "9                is_95 LAT    34.962770   0.02          0.94\n",
       "10          is_42 Adcolony    17.829982   0.01          0.95\n",
       "11                   is_US    17.230881   0.01          0.96\n",
       "12                  gender    14.689311   0.01          0.97\n",
       "13                   is_ES    12.516974   0.01          0.98\n",
       "14            is_69 Others    11.933340   0.01          0.99\n",
       "15                   is_AU     7.126150   0.00          0.99\n",
       "16                   is_CA     3.534017   0.00          0.99\n",
       "17      is_62 Social Media     3.212182   0.00          0.99\n",
       "18               is_21 ASA     1.535659   0.00          0.99\n",
       "19                   is_GB     0.616007   0.00          0.99\n",
       "20           is_00 Organic     0.581512   0.00          0.99\n",
       "21       is_61 Web/Content     0.251201   0.00          0.99\n",
       "22                   is_DE     0.103580   0.00          0.99\n",
       "23         is_12 PINTEREST     0.007613   0.00          0.99"
      ]
     },
     "execution_count": 36,
     "metadata": {},
     "output_type": "execute_result"
    }
   ],
   "source": [
    "kbest = SelectKBest(score_func=chi2)\n",
    "kbest.fit_transform(X_train, y_train)\n",
    "\n",
    "kbest_scores = pd.DataFrame(X_train.columns, columns=['X'])\n",
    "kbest_scores['kbest_score'] = kbest.scores_\n",
    "kbest_scores.sort_values(by='kbest_score', ascending=False, inplace=True)\n",
    "kbest_scores['ratio'] = round(kbest_scores['kbest_score'] / kbest_scores['kbest_score'].sum(), 2)\n",
    "kbest_scores['ratio_cumsum'] = kbest_scores['ratio'].cumsum()\n",
    "kbest_scores.reset_index(drop=True)"
   ]
  },
  {
   "cell_type": "markdown",
   "metadata": {},
   "source": [
    "top 14 feature makes 99% cumulative score"
   ]
  },
  {
   "cell_type": "code",
   "execution_count": 38,
   "metadata": {},
   "outputs": [
    {
     "name": "stdout",
     "output_type": "stream",
     "text": [
      "['is_31 OUTBRAIN', 'is_32 Taboola', 'age', 'is_MX', 'is_22 Adwords (Search)', 'is_41 Youtube', 'is_11 FB', 'is_FR', 'os', 'is_95 LAT', 'is_42 Adcolony', 'is_US', 'gender', 'is_ES']\n"
     ]
    }
   ],
   "source": [
    "# take top 14 features\n",
    "\n",
    "N = 14\n",
    "top_n_features = kbest_scores.head(N)['X'].values.tolist()\n",
    "print(top_n_features)\n",
    "\n",
    "# function to easily filter top_n features\n",
    "def apply_feature_selection(X):\n",
    "    X = X[top_n_features]\n",
    "    return X"
   ]
  },
  {
   "cell_type": "code",
   "execution_count": 39,
   "metadata": {
    "collapsed": true
   },
   "outputs": [],
   "source": [
    "# apply feature selection\n",
    "X_train_os_fs = apply_feature_selection(X_train_os)\n",
    "X_train_us_fs = apply_feature_selection(X_train_us)\n",
    "\n",
    "# I will also need a feature selection applied version of test data (for consistent shapes in training and test)\n",
    "X_test_fs = apply_feature_selection(X_test)"
   ]
  },
  {
   "cell_type": "code",
   "execution_count": 47,
   "metadata": {},
   "outputs": [
    {
     "name": "stdout",
     "output_type": "stream",
     "text": [
      "a summary of dataframes generated\n"
     ]
    },
    {
     "data": {
      "text/html": [
       "<div>\n",
       "<style>\n",
       "    .dataframe thead tr:only-child th {\n",
       "        text-align: right;\n",
       "    }\n",
       "\n",
       "    .dataframe thead th {\n",
       "        text-align: left;\n",
       "    }\n",
       "\n",
       "    .dataframe tbody tr th {\n",
       "        vertical-align: top;\n",
       "    }\n",
       "</style>\n",
       "<table border=\"1\" class=\"dataframe\">\n",
       "  <thead>\n",
       "    <tr style=\"text-align: right;\">\n",
       "      <th></th>\n",
       "      <th>data</th>\n",
       "      <th>explanation</th>\n",
       "      <th>feature_count</th>\n",
       "      <th>row_count</th>\n",
       "    </tr>\n",
       "  </thead>\n",
       "  <tbody>\n",
       "    <tr>\n",
       "      <th>0</th>\n",
       "      <td>X_train</td>\n",
       "      <td>original training data</td>\n",
       "      <td>24</td>\n",
       "      <td>66326</td>\n",
       "    </tr>\n",
       "    <tr>\n",
       "      <th>1</th>\n",
       "      <td>X_train_os</td>\n",
       "      <td>over-sampled training data</td>\n",
       "      <td>24</td>\n",
       "      <td>93150</td>\n",
       "    </tr>\n",
       "    <tr>\n",
       "      <th>2</th>\n",
       "      <td>X_train_os_fs</td>\n",
       "      <td>over-sampled and feature selected training data</td>\n",
       "      <td>14</td>\n",
       "      <td>93150</td>\n",
       "    </tr>\n",
       "    <tr>\n",
       "      <th>3</th>\n",
       "      <td>X_train_us</td>\n",
       "      <td>under-sampled training data</td>\n",
       "      <td>24</td>\n",
       "      <td>39502</td>\n",
       "    </tr>\n",
       "    <tr>\n",
       "      <th>4</th>\n",
       "      <td>X_train_us_fs</td>\n",
       "      <td>under-sampled and feature selected training data</td>\n",
       "      <td>14</td>\n",
       "      <td>39502</td>\n",
       "    </tr>\n",
       "    <tr>\n",
       "      <th>5</th>\n",
       "      <td>X_test</td>\n",
       "      <td>original test data</td>\n",
       "      <td>24</td>\n",
       "      <td>16582</td>\n",
       "    </tr>\n",
       "    <tr>\n",
       "      <th>6</th>\n",
       "      <td>X_test_fs</td>\n",
       "      <td>feature selected test data</td>\n",
       "      <td>14</td>\n",
       "      <td>16582</td>\n",
       "    </tr>\n",
       "  </tbody>\n",
       "</table>\n",
       "</div>"
      ],
      "text/plain": [
       "            data                                       explanation  \\\n",
       "0        X_train                            original training data   \n",
       "1     X_train_os                        over-sampled training data   \n",
       "2  X_train_os_fs   over-sampled and feature selected training data   \n",
       "3     X_train_us                       under-sampled training data   \n",
       "4  X_train_us_fs  under-sampled and feature selected training data   \n",
       "5         X_test                                original test data   \n",
       "6      X_test_fs                        feature selected test data   \n",
       "\n",
       "   feature_count  row_count  \n",
       "0             24      66326  \n",
       "1             24      93150  \n",
       "2             14      93150  \n",
       "3             24      39502  \n",
       "4             14      39502  \n",
       "5             24      16582  \n",
       "6             14      16582  "
      ]
     },
     "execution_count": 47,
     "metadata": {},
     "output_type": "execute_result"
    }
   ],
   "source": [
    "# final shapes of data frames\n",
    "\n",
    "df_names = {\n",
    "    'X_train': {'data': X_train, 'explanation': 'original training data'} ,\n",
    "    'X_train_os': {'data': X_train_os, 'explanation': 'over-sampled training data'} ,\n",
    "    'X_train_os_fs': {'data': X_train_os_fs, 'explanation': 'over-sampled and feature selected training data'} ,\n",
    "    'X_train_us': {'data': X_train_us, 'explanation': 'under-sampled training data'} ,\n",
    "    'X_train_us_fs': {'data': X_train_us_fs, 'explanation': 'under-sampled and feature selected training data'} ,\n",
    "    'X_test': {'data': X_test, 'explanation': 'original test data'} ,\n",
    "    'X_test_fs': {'data': X_test_fs, 'explanation': 'feature selected test data'} ,\n",
    "}\n",
    "\n",
    "temp = []\n",
    "for i in df_names:\n",
    "    temp.append({\n",
    "        'data': i,\n",
    "        'explanation': df_names[i]['explanation'],\n",
    "        'row_count': df_names[i]['data'].shape[0],\n",
    "        'feature_count': df_names[i]['data'].shape[1],\n",
    "    })\n",
    "    \n",
    "print('a summary of dataframes generated')\n",
    "pd.DataFrame(temp)"
   ]
  },
  {
   "cell_type": "code",
   "execution_count": 48,
   "metadata": {
    "collapsed": true
   },
   "outputs": [],
   "source": [
    "# I will try different classifiers with default parameters to compare performances\n",
    "\n",
    "classifiers = {\n",
    "    'DummyClassifier': DummyClassifier(strategy='stratified'),\n",
    "    'LogisticRegression': LogisticRegression(),\n",
    "    'RandomForestClassifier': RandomForestClassifier(n_estimators=20),\n",
    "    'GradientBoostingClassifier': GradientBoostingClassifier(), \n",
    "    'XGBoost': XGBClassifier(),\n",
    "    'LGBMClassifier': LGBMClassifier(),\n",
    "    'GaussianNB': GaussianNB(),\n",
    "    'AdaBoostClassifier': AdaBoostClassifier(),\n",
    "    'MLPClassifier': MLPClassifier(),\n",
    "    'KNN': KNeighborsClassifier()\n",
    "}"
   ]
  },
  {
   "cell_type": "code",
   "execution_count": 49,
   "metadata": {
    "collapsed": true
   },
   "outputs": [],
   "source": [
    "def fit_and_evaluate(clf_name, train_x, train_y, test_x, test_y):\n",
    "    clf = classifiers[clf_name]\n",
    "    clf.fit(train_x, train_y)\n",
    "    \n",
    "    # I evaluate models with test data instead of cross validation because cross validation is not suitable for oversampled data.\n",
    "    y_true = test_y\n",
    "    y_pred = clf.predict(test_x)\n",
    "    roc_auc = roc_auc_score(y_true, y_pred)\n",
    "    accuracy = accuracy_score(y_true, y_pred)\n",
    "    f1 = f1_score(y_true, y_pred)\n",
    "    conversion = y_pred.mean()\n",
    "    return roc_auc, accuracy, f1, conversion"
   ]
  },
  {
   "cell_type": "markdown",
   "metadata": {},
   "source": [
    "**Now I will try different classifiers with different input sets and decide which works best. **"
   ]
  },
  {
   "cell_type": "code",
   "execution_count": 56,
   "metadata": {},
   "outputs": [
    {
     "name": "stdout",
     "output_type": "stream",
     "text": [
      "CPU times: user 2min 25s, sys: 4.51 s, total: 2min 29s\n",
      "Wall time: 2min 29s\n"
     ]
    }
   ],
   "source": [
    "%%time\n",
    "\n",
    "df_model_scores = []\n",
    "\n",
    "for clf_name in classifiers:\n",
    "    for datatype in ['plain', 'oversample', 'oversample_fs', 'undersample', 'undersample_fs']:\n",
    "        if datatype == 'plain':\n",
    "            roc_auc, accuracy, f1, conversion = fit_and_evaluate(clf_name, X_train, y_train, X_test, y_test)\n",
    "        elif datatype == 'oversample':\n",
    "            roc_auc, accuracy, f1, conversion = fit_and_evaluate(clf_name, X_train_os, y_train_os, X_test, y_test)\n",
    "        elif datatype == 'oversample_fs':\n",
    "            roc_auc, accuracy, f1, conversion = fit_and_evaluate(clf_name, X_train_os_fs, y_train_os, X_test_fs, y_test)\n",
    "        elif datatype == 'undersample':\n",
    "            roc_auc, accuracy, f1, conversion = fit_and_evaluate(clf_name, X_train_us, y_train_us, X_test, y_test)\n",
    "        elif datatype == 'undersample_fs':\n",
    "            roc_auc, accuracy, f1, conversion = fit_and_evaluate(clf_name, X_train_us_fs, y_train_us, X_test_fs, y_test)\n",
    "            \n",
    "        df_model_scores.append({\n",
    "            'model': clf_name,\n",
    "            'roc_auc': roc_auc,\n",
    "            'accuracy': accuracy, \n",
    "            'f1': f1,\n",
    "            'conversion': conversion,\n",
    "            'datatype': datatype\n",
    "        })\n",
    "\n",
    "df_model = pd.DataFrame(df_model_scores)\n",
    "df_model.sample(5)"
   ]
  },
  {
   "cell_type": "code",
   "execution_count": 58,
   "metadata": {},
   "outputs": [
    {
     "data": {
      "text/html": [
       "<div>\n",
       "<style>\n",
       "    .dataframe thead tr:only-child th {\n",
       "        text-align: right;\n",
       "    }\n",
       "\n",
       "    .dataframe thead th {\n",
       "        text-align: left;\n",
       "    }\n",
       "\n",
       "    .dataframe tbody tr th {\n",
       "        vertical-align: top;\n",
       "    }\n",
       "</style>\n",
       "<table border=\"1\" class=\"dataframe\">\n",
       "  <thead>\n",
       "    <tr style=\"text-align: right;\">\n",
       "      <th></th>\n",
       "      <th>f1</th>\n",
       "      <th>datatype</th>\n",
       "      <th>model</th>\n",
       "    </tr>\n",
       "  </thead>\n",
       "  <tbody>\n",
       "    <tr>\n",
       "      <th>41</th>\n",
       "      <td>0.468513</td>\n",
       "      <td>oversample</td>\n",
       "      <td>MLPClassifier</td>\n",
       "    </tr>\n",
       "    <tr>\n",
       "      <th>21</th>\n",
       "      <td>0.467613</td>\n",
       "      <td>oversample</td>\n",
       "      <td>XGBoost</td>\n",
       "    </tr>\n",
       "    <tr>\n",
       "      <th>17</th>\n",
       "      <td>0.466850</td>\n",
       "      <td>oversample_fs</td>\n",
       "      <td>GradientBoostingClassifier</td>\n",
       "    </tr>\n",
       "    <tr>\n",
       "      <th>22</th>\n",
       "      <td>0.466443</td>\n",
       "      <td>oversample_fs</td>\n",
       "      <td>XGBoost</td>\n",
       "    </tr>\n",
       "    <tr>\n",
       "      <th>43</th>\n",
       "      <td>0.464887</td>\n",
       "      <td>undersample</td>\n",
       "      <td>MLPClassifier</td>\n",
       "    </tr>\n",
       "    <tr>\n",
       "      <th>37</th>\n",
       "      <td>0.464337</td>\n",
       "      <td>oversample_fs</td>\n",
       "      <td>AdaBoostClassifier</td>\n",
       "    </tr>\n",
       "    <tr>\n",
       "      <th>16</th>\n",
       "      <td>0.464128</td>\n",
       "      <td>oversample</td>\n",
       "      <td>GradientBoostingClassifier</td>\n",
       "    </tr>\n",
       "    <tr>\n",
       "      <th>42</th>\n",
       "      <td>0.463993</td>\n",
       "      <td>oversample_fs</td>\n",
       "      <td>MLPClassifier</td>\n",
       "    </tr>\n",
       "    <tr>\n",
       "      <th>36</th>\n",
       "      <td>0.463912</td>\n",
       "      <td>oversample</td>\n",
       "      <td>AdaBoostClassifier</td>\n",
       "    </tr>\n",
       "    <tr>\n",
       "      <th>26</th>\n",
       "      <td>0.463415</td>\n",
       "      <td>oversample</td>\n",
       "      <td>LGBMClassifier</td>\n",
       "    </tr>\n",
       "  </tbody>\n",
       "</table>\n",
       "</div>"
      ],
      "text/plain": [
       "          f1       datatype                       model\n",
       "41  0.468513     oversample               MLPClassifier\n",
       "21  0.467613     oversample                     XGBoost\n",
       "17  0.466850  oversample_fs  GradientBoostingClassifier\n",
       "22  0.466443  oversample_fs                     XGBoost\n",
       "43  0.464887    undersample               MLPClassifier\n",
       "37  0.464337  oversample_fs          AdaBoostClassifier\n",
       "16  0.464128     oversample  GradientBoostingClassifier\n",
       "42  0.463993  oversample_fs               MLPClassifier\n",
       "36  0.463912     oversample          AdaBoostClassifier\n",
       "26  0.463415     oversample              LGBMClassifier"
      ]
     },
     "metadata": {},
     "output_type": "display_data"
    },
    {
     "data": {
      "text/html": [
       "<div>\n",
       "<style>\n",
       "    .dataframe thead tr:only-child th {\n",
       "        text-align: right;\n",
       "    }\n",
       "\n",
       "    .dataframe thead th {\n",
       "        text-align: left;\n",
       "    }\n",
       "\n",
       "    .dataframe tbody tr th {\n",
       "        vertical-align: top;\n",
       "    }\n",
       "</style>\n",
       "<table border=\"1\" class=\"dataframe\">\n",
       "  <thead>\n",
       "    <tr style=\"text-align: right;\">\n",
       "      <th></th>\n",
       "      <th>roc_auc</th>\n",
       "      <th>datatype</th>\n",
       "      <th>model</th>\n",
       "    </tr>\n",
       "  </thead>\n",
       "  <tbody>\n",
       "    <tr>\n",
       "      <th>43</th>\n",
       "      <td>0.599315</td>\n",
       "      <td>undersample</td>\n",
       "      <td>MLPClassifier</td>\n",
       "    </tr>\n",
       "    <tr>\n",
       "      <th>42</th>\n",
       "      <td>0.598326</td>\n",
       "      <td>oversample_fs</td>\n",
       "      <td>MLPClassifier</td>\n",
       "    </tr>\n",
       "    <tr>\n",
       "      <th>8</th>\n",
       "      <td>0.596963</td>\n",
       "      <td>undersample</td>\n",
       "      <td>LogisticRegression</td>\n",
       "    </tr>\n",
       "    <tr>\n",
       "      <th>23</th>\n",
       "      <td>0.596898</td>\n",
       "      <td>undersample</td>\n",
       "      <td>XGBoost</td>\n",
       "    </tr>\n",
       "    <tr>\n",
       "      <th>9</th>\n",
       "      <td>0.596424</td>\n",
       "      <td>undersample_fs</td>\n",
       "      <td>LogisticRegression</td>\n",
       "    </tr>\n",
       "    <tr>\n",
       "      <th>44</th>\n",
       "      <td>0.596399</td>\n",
       "      <td>undersample_fs</td>\n",
       "      <td>MLPClassifier</td>\n",
       "    </tr>\n",
       "    <tr>\n",
       "      <th>19</th>\n",
       "      <td>0.596259</td>\n",
       "      <td>undersample_fs</td>\n",
       "      <td>GradientBoostingClassifier</td>\n",
       "    </tr>\n",
       "    <tr>\n",
       "      <th>29</th>\n",
       "      <td>0.596032</td>\n",
       "      <td>undersample_fs</td>\n",
       "      <td>LGBMClassifier</td>\n",
       "    </tr>\n",
       "    <tr>\n",
       "      <th>18</th>\n",
       "      <td>0.595953</td>\n",
       "      <td>undersample</td>\n",
       "      <td>GradientBoostingClassifier</td>\n",
       "    </tr>\n",
       "    <tr>\n",
       "      <th>7</th>\n",
       "      <td>0.595741</td>\n",
       "      <td>oversample_fs</td>\n",
       "      <td>LogisticRegression</td>\n",
       "    </tr>\n",
       "  </tbody>\n",
       "</table>\n",
       "</div>"
      ],
      "text/plain": [
       "     roc_auc        datatype                       model\n",
       "43  0.599315     undersample               MLPClassifier\n",
       "42  0.598326   oversample_fs               MLPClassifier\n",
       "8   0.596963     undersample          LogisticRegression\n",
       "23  0.596898     undersample                     XGBoost\n",
       "9   0.596424  undersample_fs          LogisticRegression\n",
       "44  0.596399  undersample_fs               MLPClassifier\n",
       "19  0.596259  undersample_fs  GradientBoostingClassifier\n",
       "29  0.596032  undersample_fs              LGBMClassifier\n",
       "18  0.595953     undersample  GradientBoostingClassifier\n",
       "7   0.595741   oversample_fs          LogisticRegression"
      ]
     },
     "metadata": {},
     "output_type": "display_data"
    }
   ],
   "source": [
    "display(df_model[['f1', 'datatype', 'model']].sort_values(by='f1', ascending=False).head(10))\n",
    "display(df_model[['roc_auc', 'datatype', 'model']].sort_values(by='roc_auc', ascending=False).head(10))"
   ]
  },
  {
   "cell_type": "markdown",
   "metadata": {},
   "source": [
    "Performance is not changing considerably.\n",
    "\n",
    "**Chosen variables:**\n",
    "\n",
    "- model: Multi-layer Perceptron Classifier \n",
    "- data: under-sampling (similar performance with over-sampling but safe to use cross-validation)\n",
    "- features: all features"
   ]
  },
  {
   "cell_type": "markdown",
   "metadata": {},
   "source": [
    "### Grid Search with MLP"
   ]
  },
  {
   "cell_type": "code",
   "execution_count": 60,
   "metadata": {},
   "outputs": [
    {
     "name": "stdout",
     "output_type": "stream",
     "text": [
      "CPU times: user 7min 5s, sys: 1min 36s, total: 8min 41s\n",
      "Wall time: 7min 35s\n"
     ]
    }
   ],
   "source": [
    "%%time\n",
    "\n",
    "param_grid_MLP = {\n",
    "    'activation':['relu', 'tanh', 'logistic', 'identity'],\n",
    "    'solver': ['lbfgs', 'sgd', 'adam'],\n",
    "    'learning_rate': ['constant', 'invscaling', 'adaptive']\n",
    "}\n",
    "\n",
    "grid = GridSearchCV(MLPClassifier(), param_grid=param_grid_MLP, scoring='f1')\n",
    "grid.fit(X_train_us, y_train_us)"
   ]
  },
  {
   "cell_type": "code",
   "execution_count": 73,
   "metadata": {},
   "outputs": [
    {
     "data": {
      "text/plain": [
       "({'activation': 'logistic', 'learning_rate': 'constant', 'solver': 'sgd'},\n",
       " 0.59705834569483407)"
      ]
     },
     "execution_count": 73,
     "metadata": {},
     "output_type": "execute_result"
    }
   ],
   "source": [
    "grid.best_params_, grid.best_score_"
   ]
  },
  {
   "cell_type": "code",
   "execution_count": 114,
   "metadata": {},
   "outputs": [
    {
     "data": {
      "text/html": [
       "<div>\n",
       "<style>\n",
       "    .dataframe thead tr:only-child th {\n",
       "        text-align: right;\n",
       "    }\n",
       "\n",
       "    .dataframe thead th {\n",
       "        text-align: left;\n",
       "    }\n",
       "\n",
       "    .dataframe tbody tr th {\n",
       "        vertical-align: top;\n",
       "    }\n",
       "</style>\n",
       "<table border=\"1\" class=\"dataframe\">\n",
       "  <thead>\n",
       "    <tr style=\"text-align: right;\">\n",
       "      <th></th>\n",
       "      <th>mean_fit_time</th>\n",
       "      <th>mean_score_time</th>\n",
       "      <th>mean_test_score</th>\n",
       "      <th>mean_train_score</th>\n",
       "      <th>param_activation</th>\n",
       "      <th>param_learning_rate</th>\n",
       "      <th>param_solver</th>\n",
       "      <th>params</th>\n",
       "      <th>rank_test_score</th>\n",
       "      <th>split0_test_score</th>\n",
       "      <th>split0_train_score</th>\n",
       "      <th>split1_test_score</th>\n",
       "      <th>split1_train_score</th>\n",
       "      <th>split2_test_score</th>\n",
       "      <th>split2_train_score</th>\n",
       "      <th>std_fit_time</th>\n",
       "      <th>std_score_time</th>\n",
       "      <th>std_test_score</th>\n",
       "      <th>std_train_score</th>\n",
       "    </tr>\n",
       "  </thead>\n",
       "  <tbody>\n",
       "    <tr>\n",
       "      <th>19</th>\n",
       "      <td>0.952412</td>\n",
       "      <td>0.022459</td>\n",
       "      <td>0.597058</td>\n",
       "      <td>0.598003</td>\n",
       "      <td>logistic</td>\n",
       "      <td>constant</td>\n",
       "      <td>sgd</td>\n",
       "      <td>{'activation': 'logistic', 'learning_rate': 'c...</td>\n",
       "      <td>1</td>\n",
       "      <td>0.512948</td>\n",
       "      <td>0.513644</td>\n",
       "      <td>0.662872</td>\n",
       "      <td>0.662672</td>\n",
       "      <td>0.615357</td>\n",
       "      <td>0.617692</td>\n",
       "      <td>0.302385</td>\n",
       "      <td>0.000072</td>\n",
       "      <td>0.062560</td>\n",
       "      <td>0.062413</td>\n",
       "    </tr>\n",
       "    <tr>\n",
       "      <th>2</th>\n",
       "      <td>1.821927</td>\n",
       "      <td>0.018903</td>\n",
       "      <td>0.595000</td>\n",
       "      <td>0.600392</td>\n",
       "      <td>relu</td>\n",
       "      <td>constant</td>\n",
       "      <td>adam</td>\n",
       "      <td>{'activation': 'relu', 'learning_rate': 'const...</td>\n",
       "      <td>2</td>\n",
       "      <td>0.595523</td>\n",
       "      <td>0.607532</td>\n",
       "      <td>0.610450</td>\n",
       "      <td>0.608599</td>\n",
       "      <td>0.579023</td>\n",
       "      <td>0.585046</td>\n",
       "      <td>0.511927</td>\n",
       "      <td>0.000179</td>\n",
       "      <td>0.012835</td>\n",
       "      <td>0.010860</td>\n",
       "    </tr>\n",
       "    <tr>\n",
       "      <th>26</th>\n",
       "      <td>1.834305</td>\n",
       "      <td>0.023450</td>\n",
       "      <td>0.592940</td>\n",
       "      <td>0.592721</td>\n",
       "      <td>logistic</td>\n",
       "      <td>adaptive</td>\n",
       "      <td>adam</td>\n",
       "      <td>{'activation': 'logistic', 'learning_rate': 'a...</td>\n",
       "      <td>3</td>\n",
       "      <td>0.598366</td>\n",
       "      <td>0.601297</td>\n",
       "      <td>0.587381</td>\n",
       "      <td>0.582118</td>\n",
       "      <td>0.593073</td>\n",
       "      <td>0.594747</td>\n",
       "      <td>0.102479</td>\n",
       "      <td>0.001021</td>\n",
       "      <td>0.004486</td>\n",
       "      <td>0.007960</td>\n",
       "    </tr>\n",
       "    <tr>\n",
       "      <th>29</th>\n",
       "      <td>0.794122</td>\n",
       "      <td>0.012847</td>\n",
       "      <td>0.586885</td>\n",
       "      <td>0.589222</td>\n",
       "      <td>identity</td>\n",
       "      <td>constant</td>\n",
       "      <td>adam</td>\n",
       "      <td>{'activation': 'identity', 'learning_rate': 'c...</td>\n",
       "      <td>4</td>\n",
       "      <td>0.594951</td>\n",
       "      <td>0.599002</td>\n",
       "      <td>0.600678</td>\n",
       "      <td>0.599383</td>\n",
       "      <td>0.565022</td>\n",
       "      <td>0.569281</td>\n",
       "      <td>0.030697</td>\n",
       "      <td>0.001275</td>\n",
       "      <td>0.015634</td>\n",
       "      <td>0.014101</td>\n",
       "    </tr>\n",
       "    <tr>\n",
       "      <th>5</th>\n",
       "      <td>2.179529</td>\n",
       "      <td>0.020398</td>\n",
       "      <td>0.583462</td>\n",
       "      <td>0.588519</td>\n",
       "      <td>relu</td>\n",
       "      <td>invscaling</td>\n",
       "      <td>adam</td>\n",
       "      <td>{'activation': 'relu', 'learning_rate': 'invsc...</td>\n",
       "      <td>5</td>\n",
       "      <td>0.593838</td>\n",
       "      <td>0.603772</td>\n",
       "      <td>0.566453</td>\n",
       "      <td>0.564247</td>\n",
       "      <td>0.590095</td>\n",
       "      <td>0.597537</td>\n",
       "      <td>0.232784</td>\n",
       "      <td>0.000745</td>\n",
       "      <td>0.012124</td>\n",
       "      <td>0.017350</td>\n",
       "    </tr>\n",
       "  </tbody>\n",
       "</table>\n",
       "</div>"
      ],
      "text/plain": [
       "    mean_fit_time  mean_score_time  mean_test_score  mean_train_score  \\\n",
       "19       0.952412         0.022459         0.597058          0.598003   \n",
       "2        1.821927         0.018903         0.595000          0.600392   \n",
       "26       1.834305         0.023450         0.592940          0.592721   \n",
       "29       0.794122         0.012847         0.586885          0.589222   \n",
       "5        2.179529         0.020398         0.583462          0.588519   \n",
       "\n",
       "   param_activation param_learning_rate param_solver  \\\n",
       "19         logistic            constant          sgd   \n",
       "2              relu            constant         adam   \n",
       "26         logistic            adaptive         adam   \n",
       "29         identity            constant         adam   \n",
       "5              relu          invscaling         adam   \n",
       "\n",
       "                                               params  rank_test_score  \\\n",
       "19  {'activation': 'logistic', 'learning_rate': 'c...                1   \n",
       "2   {'activation': 'relu', 'learning_rate': 'const...                2   \n",
       "26  {'activation': 'logistic', 'learning_rate': 'a...                3   \n",
       "29  {'activation': 'identity', 'learning_rate': 'c...                4   \n",
       "5   {'activation': 'relu', 'learning_rate': 'invsc...                5   \n",
       "\n",
       "    split0_test_score  split0_train_score  split1_test_score  \\\n",
       "19           0.512948            0.513644           0.662872   \n",
       "2            0.595523            0.607532           0.610450   \n",
       "26           0.598366            0.601297           0.587381   \n",
       "29           0.594951            0.599002           0.600678   \n",
       "5            0.593838            0.603772           0.566453   \n",
       "\n",
       "    split1_train_score  split2_test_score  split2_train_score  std_fit_time  \\\n",
       "19            0.662672           0.615357            0.617692      0.302385   \n",
       "2             0.608599           0.579023            0.585046      0.511927   \n",
       "26            0.582118           0.593073            0.594747      0.102479   \n",
       "29            0.599383           0.565022            0.569281      0.030697   \n",
       "5             0.564247           0.590095            0.597537      0.232784   \n",
       "\n",
       "    std_score_time  std_test_score  std_train_score  \n",
       "19        0.000072        0.062560         0.062413  \n",
       "2         0.000179        0.012835         0.010860  \n",
       "26        0.001021        0.004486         0.007960  \n",
       "29        0.001275        0.015634         0.014101  \n",
       "5         0.000745        0.012124         0.017350  "
      ]
     },
     "execution_count": 114,
     "metadata": {},
     "output_type": "execute_result"
    }
   ],
   "source": [
    "pd.DataFrame(grid.cv_results_).sort_values(by='rank_test_score').head()"
   ]
  },
  {
   "cell_type": "markdown",
   "metadata": {},
   "source": [
    "### Model Performance\n",
    "for final estimation of model performance, test data will be used."
   ]
  },
  {
   "cell_type": "code",
   "execution_count": 133,
   "metadata": {
    "collapsed": true
   },
   "outputs": [],
   "source": [
    "final_model = MLPClassifier(activation = 'logistic', learning_rate= 'constant', solver= 'sgd')\n",
    "\n",
    "final_model.fit(X_train_us, y_train_us)\n",
    "y_pred = final_model.predict(X_test)\n",
    "y_true = y_test"
   ]
  },
  {
   "cell_type": "code",
   "execution_count": 115,
   "metadata": {
    "scrolled": true
   },
   "outputs": [
    {
     "name": "stdout",
     "output_type": "stream",
     "text": [
      "             precision    recall  f1-score   support\n",
      "\n",
      "          0       0.76      0.68      0.72     11639\n",
      "          1       0.40      0.49      0.44      4943\n",
      "\n",
      "avg / total       0.65      0.62      0.63     16582\n",
      "\n"
     ]
    }
   ],
   "source": [
    "print(classification_report(y_true, y_pred))"
   ]
  },
  {
   "cell_type": "code",
   "execution_count": 116,
   "metadata": {},
   "outputs": [
    {
     "name": "stdout",
     "output_type": "stream",
     "text": [
      "f1: 0.44\n",
      "roc_auc_score: 0.59\n",
      "accuracy: 0.62\n",
      "real conversion: 0.3\n",
      "predicted conversion: 0.37\n"
     ]
    }
   ],
   "source": [
    "print('f1:', round(f1_score(y_true, y_pred), 2))\n",
    "print('roc_auc_score:', round(roc_auc_score(y_true, y_pred), 2))\n",
    "print('accuracy:', round(accuracy_score(y_true, y_pred), 2))\n",
    "print('real conversion:', round(y_true.mean(), 2))\n",
    "print('predicted conversion:', round(y_pred.mean(), 2))"
   ]
  },
  {
   "cell_type": "markdown",
   "metadata": {},
   "source": [
    "- The final score of our model is not satisfactory. f1 score is low\n",
    "- Recall value is probably more essential for us if that is the case we can increase it by changing the thresholds\n",
    "- To improve model, we should try to collect more features related to users which will help explain conversion behaviour\n",
    "\n",
    "### List of features that might be helpful to improve the performance of model:\n",
    "- first session duration\n",
    "- steps tracking enabled\n",
    "- profile completion ratio (height, weight etc.)\n",
    "- workout logged\n",
    "- meal logged\n",
    "- weight logged\n",
    "- number of friends invited\n",
    "- any friend accepted the invite\n",
    "- facebook connect"
   ]
  },
  {
   "cell_type": "markdown",
   "metadata": {},
   "source": [
    "# 3) Predictions"
   ]
  },
  {
   "cell_type": "code",
   "execution_count": 135,
   "metadata": {},
   "outputs": [
    {
     "data": {
      "text/html": [
       "<div>\n",
       "<style>\n",
       "    .dataframe thead tr:only-child th {\n",
       "        text-align: right;\n",
       "    }\n",
       "\n",
       "    .dataframe thead th {\n",
       "        text-align: left;\n",
       "    }\n",
       "\n",
       "    .dataframe tbody tr th {\n",
       "        vertical-align: top;\n",
       "    }\n",
       "</style>\n",
       "<table border=\"1\" class=\"dataframe\">\n",
       "  <thead>\n",
       "    <tr style=\"text-align: right;\">\n",
       "      <th></th>\n",
       "      <th>user_id</th>\n",
       "      <th>channel</th>\n",
       "      <th>age</th>\n",
       "      <th>os</th>\n",
       "      <th>gender</th>\n",
       "      <th>country</th>\n",
       "    </tr>\n",
       "  </thead>\n",
       "  <tbody>\n",
       "    <tr>\n",
       "      <th>3562</th>\n",
       "      <td>3562</td>\n",
       "      <td>31 OUTBRAIN</td>\n",
       "      <td>25</td>\n",
       "      <td>ios</td>\n",
       "      <td>male</td>\n",
       "      <td>US</td>\n",
       "    </tr>\n",
       "    <tr>\n",
       "      <th>1152</th>\n",
       "      <td>1152</td>\n",
       "      <td>31 OUTBRAIN</td>\n",
       "      <td>29</td>\n",
       "      <td>ios</td>\n",
       "      <td>male</td>\n",
       "      <td>US</td>\n",
       "    </tr>\n",
       "    <tr>\n",
       "      <th>9469</th>\n",
       "      <td>9469</td>\n",
       "      <td>42 Adcolony</td>\n",
       "      <td>22</td>\n",
       "      <td>android</td>\n",
       "      <td>female</td>\n",
       "      <td>US</td>\n",
       "    </tr>\n",
       "    <tr>\n",
       "      <th>209</th>\n",
       "      <td>209</td>\n",
       "      <td>12 PINTEREST</td>\n",
       "      <td>31</td>\n",
       "      <td>android</td>\n",
       "      <td>female</td>\n",
       "      <td>US</td>\n",
       "    </tr>\n",
       "    <tr>\n",
       "      <th>5506</th>\n",
       "      <td>5506</td>\n",
       "      <td>11 FB</td>\n",
       "      <td>40</td>\n",
       "      <td>android</td>\n",
       "      <td>male</td>\n",
       "      <td>US</td>\n",
       "    </tr>\n",
       "  </tbody>\n",
       "</table>\n",
       "</div>"
      ],
      "text/plain": [
       "      user_id       channel  age       os  gender country\n",
       "3562     3562   31 OUTBRAIN   25      ios    male      US\n",
       "1152     1152   31 OUTBRAIN   29      ios    male      US\n",
       "9469     9469   42 Adcolony   22  android  female      US\n",
       "209       209  12 PINTEREST   31  android  female      US\n",
       "5506     5506         11 FB   40  android    male      US"
      ]
     },
     "execution_count": 135,
     "metadata": {},
     "output_type": "execute_result"
    }
   ],
   "source": [
    "df_test = pd.read_csv('./test_data.csv')\n",
    "df_test.sample(5)"
   ]
  },
  {
   "cell_type": "code",
   "execution_count": 136,
   "metadata": {},
   "outputs": [
    {
     "data": {
      "text/plain": [
       "(0.5, (49388, 24))"
      ]
     },
     "execution_count": 136,
     "metadata": {},
     "output_type": "execute_result"
    }
   ],
   "source": [
    "#prepare input data for model. Using whole data to train. No train/test split here\n",
    "\n",
    "X_us, y_us = RandomUnderSampler().fit_sample(prepare_data(X), y) \n",
    "y_us.mean(), X_us.shape"
   ]
  },
  {
   "cell_type": "code",
   "execution_count": 137,
   "metadata": {},
   "outputs": [
    {
     "data": {
      "text/plain": [
       "MLPClassifier(activation='logistic', alpha=0.0001, batch_size='auto',\n",
       "       beta_1=0.9, beta_2=0.999, early_stopping=False, epsilon=1e-08,\n",
       "       hidden_layer_sizes=(100,), learning_rate='constant',\n",
       "       learning_rate_init=0.001, max_iter=200, momentum=0.9,\n",
       "       nesterovs_momentum=True, power_t=0.5, random_state=None,\n",
       "       shuffle=True, solver='sgd', tol=0.0001, validation_fraction=0.1,\n",
       "       verbose=False, warm_start=False)"
      ]
     },
     "execution_count": 137,
     "metadata": {},
     "output_type": "execute_result"
    }
   ],
   "source": [
    "# create model and train it with all data\n",
    "\n",
    "final_model = MLPClassifier(activation = 'logistic', learning_rate= 'constant', solver= 'sgd')\n",
    "final_model.fit(X_us, y_us)"
   ]
  },
  {
   "cell_type": "code",
   "execution_count": 139,
   "metadata": {},
   "outputs": [
    {
     "data": {
      "text/plain": [
       "0.54335566907715782"
      ]
     },
     "execution_count": 139,
     "metadata": {},
     "output_type": "execute_result"
    }
   ],
   "source": [
    "f1_score(y_us, final_model.predict(X_us))"
   ]
  },
  {
   "cell_type": "code",
   "execution_count": 138,
   "metadata": {
    "collapsed": true
   },
   "outputs": [],
   "source": [
    "predictions = final_model.predict(prepare_data(df_test))"
   ]
  },
  {
   "cell_type": "code",
   "execution_count": 148,
   "metadata": {},
   "outputs": [
    {
     "data": {
      "text/plain": [
       "((10000,), (10000, 6))"
      ]
     },
     "execution_count": 148,
     "metadata": {},
     "output_type": "execute_result"
    }
   ],
   "source": [
    "predictions.shape, df_test.shape"
   ]
  },
  {
   "cell_type": "code",
   "execution_count": 146,
   "metadata": {},
   "outputs": [],
   "source": [
    "final_file = deepcopy(df_test)\n",
    "final_file['customer'] = predictions"
   ]
  },
  {
   "cell_type": "code",
   "execution_count": 154,
   "metadata": {},
   "outputs": [
    {
     "data": {
      "text/html": [
       "<div>\n",
       "<style>\n",
       "    .dataframe thead tr:only-child th {\n",
       "        text-align: right;\n",
       "    }\n",
       "\n",
       "    .dataframe thead th {\n",
       "        text-align: left;\n",
       "    }\n",
       "\n",
       "    .dataframe tbody tr th {\n",
       "        vertical-align: top;\n",
       "    }\n",
       "</style>\n",
       "<table border=\"1\" class=\"dataframe\">\n",
       "  <thead>\n",
       "    <tr style=\"text-align: right;\">\n",
       "      <th></th>\n",
       "      <th>user_id</th>\n",
       "      <th>channel</th>\n",
       "      <th>age</th>\n",
       "      <th>os</th>\n",
       "      <th>gender</th>\n",
       "      <th>country</th>\n",
       "      <th>customer</th>\n",
       "    </tr>\n",
       "  </thead>\n",
       "  <tbody>\n",
       "    <tr>\n",
       "      <th>0</th>\n",
       "      <td>0</td>\n",
       "      <td>42 Adcolony</td>\n",
       "      <td>32</td>\n",
       "      <td>android</td>\n",
       "      <td>female</td>\n",
       "      <td>US</td>\n",
       "      <td>0</td>\n",
       "    </tr>\n",
       "    <tr>\n",
       "      <th>1</th>\n",
       "      <td>1</td>\n",
       "      <td>12 PINTEREST</td>\n",
       "      <td>27</td>\n",
       "      <td>android</td>\n",
       "      <td>female</td>\n",
       "      <td>US</td>\n",
       "      <td>0</td>\n",
       "    </tr>\n",
       "    <tr>\n",
       "      <th>2</th>\n",
       "      <td>2</td>\n",
       "      <td>00 Organic</td>\n",
       "      <td>36</td>\n",
       "      <td>ios</td>\n",
       "      <td>male</td>\n",
       "      <td>GB</td>\n",
       "      <td>1</td>\n",
       "    </tr>\n",
       "    <tr>\n",
       "      <th>3</th>\n",
       "      <td>3</td>\n",
       "      <td>42 Adcolony</td>\n",
       "      <td>29</td>\n",
       "      <td>ios</td>\n",
       "      <td>female</td>\n",
       "      <td>US</td>\n",
       "      <td>0</td>\n",
       "    </tr>\n",
       "    <tr>\n",
       "      <th>4</th>\n",
       "      <td>4</td>\n",
       "      <td>12 PINTEREST</td>\n",
       "      <td>20</td>\n",
       "      <td>ios</td>\n",
       "      <td>female</td>\n",
       "      <td>CA</td>\n",
       "      <td>0</td>\n",
       "    </tr>\n",
       "    <tr>\n",
       "      <th>5</th>\n",
       "      <td>5</td>\n",
       "      <td>00 Organic</td>\n",
       "      <td>47</td>\n",
       "      <td>ios</td>\n",
       "      <td>female</td>\n",
       "      <td>US</td>\n",
       "      <td>1</td>\n",
       "    </tr>\n",
       "    <tr>\n",
       "      <th>6</th>\n",
       "      <td>6</td>\n",
       "      <td>00 Organic</td>\n",
       "      <td>27</td>\n",
       "      <td>android</td>\n",
       "      <td>female</td>\n",
       "      <td>CA</td>\n",
       "      <td>0</td>\n",
       "    </tr>\n",
       "    <tr>\n",
       "      <th>7</th>\n",
       "      <td>7</td>\n",
       "      <td>22 Adwords (Search)</td>\n",
       "      <td>20</td>\n",
       "      <td>android</td>\n",
       "      <td>female</td>\n",
       "      <td>DE</td>\n",
       "      <td>0</td>\n",
       "    </tr>\n",
       "    <tr>\n",
       "      <th>8</th>\n",
       "      <td>8</td>\n",
       "      <td>00 Organic</td>\n",
       "      <td>15</td>\n",
       "      <td>ios</td>\n",
       "      <td>female</td>\n",
       "      <td>US</td>\n",
       "      <td>0</td>\n",
       "    </tr>\n",
       "    <tr>\n",
       "      <th>9</th>\n",
       "      <td>9</td>\n",
       "      <td>12 PINTEREST</td>\n",
       "      <td>35</td>\n",
       "      <td>ios</td>\n",
       "      <td>female</td>\n",
       "      <td>US</td>\n",
       "      <td>1</td>\n",
       "    </tr>\n",
       "  </tbody>\n",
       "</table>\n",
       "</div>"
      ],
      "text/plain": [
       "   user_id              channel  age       os  gender country  customer\n",
       "0        0          42 Adcolony   32  android  female      US         0\n",
       "1        1         12 PINTEREST   27  android  female      US         0\n",
       "2        2           00 Organic   36      ios    male      GB         1\n",
       "3        3          42 Adcolony   29      ios  female      US         0\n",
       "4        4         12 PINTEREST   20      ios  female      CA         0\n",
       "5        5           00 Organic   47      ios  female      US         1\n",
       "6        6           00 Organic   27  android  female      CA         0\n",
       "7        7  22 Adwords (Search)   20  android  female      DE         0\n",
       "8        8           00 Organic   15      ios  female      US         0\n",
       "9        9         12 PINTEREST   35      ios  female      US         1"
      ]
     },
     "execution_count": 154,
     "metadata": {},
     "output_type": "execute_result"
    }
   ],
   "source": [
    "final_file.head(10)"
   ]
  },
  {
   "cell_type": "code",
   "execution_count": 155,
   "metadata": {
    "collapsed": true
   },
   "outputs": [],
   "source": [
    "final_file.to_csv('./Baran_Toppare_predictions.csv', index=False)"
   ]
  },
  {
   "cell_type": "code",
   "execution_count": null,
   "metadata": {
    "collapsed": true
   },
   "outputs": [],
   "source": []
  }
 ],
 "metadata": {
  "kernelspec": {
   "display_name": "Python 3",
   "language": "python",
   "name": "python3"
  },
  "language_info": {
   "codemirror_mode": {
    "name": "ipython",
    "version": 3
   },
   "file_extension": ".py",
   "mimetype": "text/x-python",
   "name": "python",
   "nbconvert_exporter": "python",
   "pygments_lexer": "ipython3",
   "version": "3.6.1"
  }
 },
 "nbformat": 4,
 "nbformat_minor": 2
}
